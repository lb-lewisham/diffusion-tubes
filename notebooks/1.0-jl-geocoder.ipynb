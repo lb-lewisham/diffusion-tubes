{
 "cells": [
  {
   "cell_type": "code",
   "execution_count": 1,
   "metadata": {},
   "outputs": [],
   "source": [
    "# PYTHON PACKAGES USED\n",
    "from geopy.geocoders import Nominatim # module to convert an address into latitude and longitude values\n",
    "import pandas as pd # module for data analysis\n",
    "import geopandas as gpd # module for data analysis"
   ]
  },
  {
   "cell_type": "code",
   "execution_count": 2,
   "metadata": {},
   "outputs": [],
   "source": [
    "# set up the geocoder\n",
    "app = Nominatim(user_agent=\"JournalDev\")"
   ]
  },
  {
   "cell_type": "code",
   "execution_count": 145,
   "metadata": {},
   "outputs": [
    {
     "name": "stderr",
     "output_type": "stream",
     "text": [
      "/Users/joe/.pyenv/versions/miniforge3/envs/conda_env/lib/python3.9/site-packages/openpyxl/worksheet/_reader.py:312: UserWarning: Web Extension extension is not supported and will be removed\n",
      "  warn(msg)\n"
     ]
    }
   ],
   "source": [
    "# get the source data as a dataframe\n",
    "xlfile = pd.read_excel('../data/raw/Air Quality Analysis.xlsx', sheet_name='MAP LTN + Regular')"
   ]
  },
  {
   "cell_type": "code",
   "execution_count": 146,
   "metadata": {},
   "outputs": [],
   "source": [
    "# remove rows with NA values\n",
    "xlfile.dropna(inplace=True)"
   ]
  },
  {
   "cell_type": "code",
   "execution_count": 147,
   "metadata": {},
   "outputs": [
    {
     "data": {
      "text/plain": [
       "Index(['Location ', 'Result'], dtype='object')"
      ]
     },
     "execution_count": 147,
     "metadata": {},
     "output_type": "execute_result"
    }
   ],
   "source": [
    "# check column names\n",
    "xlfile.columns\n",
    "# note that the Location column name has a trailing space\n",
    "# the Result column is presumably NO2 micrograms per cubic meter"
   ]
  },
  {
   "cell_type": "code",
   "execution_count": 148,
   "metadata": {},
   "outputs": [],
   "source": [
    "# strip trailing spaces from column names\n",
    "xlfile = xlfile.rename(columns=lambda x: x.strip())"
   ]
  },
  {
   "cell_type": "code",
   "execution_count": 149,
   "metadata": {},
   "outputs": [],
   "source": [
    "# remove both Bromley and newline character (stops Nominatim from working)\n",
    "xlfile['Location'].replace(to_replace=['Bromley','\\n.*'], value='', regex=True, inplace=True)"
   ]
  },
  {
   "cell_type": "code",
   "execution_count": 150,
   "metadata": {},
   "outputs": [],
   "source": [
    "# remove street name after school (stops Nominatim from working)\n",
    "xlfile['Location'].replace(to_replace='School,[^,]*,', value='School,', regex=True, inplace=True)"
   ]
  },
  {
   "cell_type": "code",
   "execution_count": 266,
   "metadata": {},
   "outputs": [
    {
     "data": {
      "text/html": [
       "<div>\n",
       "<style scoped>\n",
       "    .dataframe tbody tr th:only-of-type {\n",
       "        vertical-align: middle;\n",
       "    }\n",
       "\n",
       "    .dataframe tbody tr th {\n",
       "        vertical-align: top;\n",
       "    }\n",
       "\n",
       "    .dataframe thead th {\n",
       "        text-align: right;\n",
       "    }\n",
       "</style>\n",
       "<table border=\"1\" class=\"dataframe\">\n",
       "  <thead>\n",
       "    <tr style=\"text-align: right;\">\n",
       "      <th></th>\n",
       "      <th>Location</th>\n",
       "      <th>Result</th>\n",
       "      <th>Longitude</th>\n",
       "      <th>Latitude</th>\n",
       "    </tr>\n",
       "  </thead>\n",
       "  <tbody>\n",
       "    <tr>\n",
       "      <th>0</th>\n",
       "      <td>290 Brownhill Rd, London, SE6 1AU</td>\n",
       "      <td>34.0</td>\n",
       "      <td>-0.006304</td>\n",
       "      <td>51.445074</td>\n",
       "    </tr>\n",
       "    <tr>\n",
       "      <th>1</th>\n",
       "      <td>baring road, london, se12</td>\n",
       "      <td>33.4</td>\n",
       "      <td>0.021285</td>\n",
       "      <td>51.432353</td>\n",
       "    </tr>\n",
       "    <tr>\n",
       "      <th>2</th>\n",
       "      <td>Bell Green, London,</td>\n",
       "      <td>32.5</td>\n",
       "      <td>-0.037459</td>\n",
       "      <td>51.430748</td>\n",
       "    </tr>\n",
       "    <tr>\n",
       "      <th>3</th>\n",
       "      <td>montpelier vale, blackheath, london</td>\n",
       "      <td>31.2</td>\n",
       "      <td>0.008612</td>\n",
       "      <td>51.466384</td>\n",
       "    </tr>\n",
       "    <tr>\n",
       "      <th>4</th>\n",
       "      <td>New Cross Rd, London, SE14 6AR</td>\n",
       "      <td>30.1</td>\n",
       "      <td>-0.039447</td>\n",
       "      <td>51.475109</td>\n",
       "    </tr>\n",
       "  </tbody>\n",
       "</table>\n",
       "</div>"
      ],
      "text/plain": [
       "                              Location  Result  Longitude   Latitude\n",
       "0    290 Brownhill Rd, London, SE6 1AU    34.0  -0.006304  51.445074\n",
       "1            baring road, london, se12    33.4   0.021285  51.432353\n",
       "2                 Bell Green, London,     32.5  -0.037459  51.430748\n",
       "3  montpelier vale, blackheath, london    31.2   0.008612  51.466384\n",
       "4       New Cross Rd, London, SE14 6AR    30.1  -0.039447  51.475109"
      ]
     },
     "execution_count": 266,
     "metadata": {},
     "output_type": "execute_result"
    }
   ],
   "source": [
    "xlfile.head()"
   ]
  },
  {
   "cell_type": "code",
   "execution_count": 110,
   "metadata": {},
   "outputs": [],
   "source": [
    "# function to geocode a location\n",
    "def geocode_ltn(row):\n",
    "    import time\n",
    "    import numpy\n",
    "    try:\n",
    "        time.sleep(1)\n",
    "        location = app.geocode(row['Location'])\n",
    "        return [numpy.float64(location.raw['lon']), numpy.float64(location.raw['lat'])]\n",
    "    except Exception as e:\n",
    "        return None\n"
   ]
  },
  {
   "cell_type": "code",
   "execution_count": 152,
   "metadata": {},
   "outputs": [
    {
     "name": "stdout",
     "output_type": "stream",
     "text": [
      "'NoneType' object has no attribute 'raw'\n",
      "'NoneType' object has no attribute 'raw'\n",
      "'NoneType' object has no attribute 'raw'\n",
      "'NoneType' object has no attribute 'raw'\n",
      "'NoneType' object has no attribute 'raw'\n",
      "'NoneType' object has no attribute 'raw'\n",
      "'NoneType' object has no attribute 'raw'\n",
      "'NoneType' object has no attribute 'raw'\n"
     ]
    },
    {
     "data": {
      "text/html": [
       "<div>\n",
       "<style scoped>\n",
       "    .dataframe tbody tr th:only-of-type {\n",
       "        vertical-align: middle;\n",
       "    }\n",
       "\n",
       "    .dataframe tbody tr th {\n",
       "        vertical-align: top;\n",
       "    }\n",
       "\n",
       "    .dataframe thead th {\n",
       "        text-align: right;\n",
       "    }\n",
       "</style>\n",
       "<table border=\"1\" class=\"dataframe\">\n",
       "  <thead>\n",
       "    <tr style=\"text-align: right;\">\n",
       "      <th></th>\n",
       "      <th>Location</th>\n",
       "      <th>Result</th>\n",
       "      <th>Longitude</th>\n",
       "      <th>Latitude</th>\n",
       "    </tr>\n",
       "  </thead>\n",
       "  <tbody>\n",
       "    <tr>\n",
       "      <th>0</th>\n",
       "      <td>290 Brownhill Rd, London, SE6 1AU</td>\n",
       "      <td>34.0</td>\n",
       "      <td>-0.006304</td>\n",
       "      <td>51.445074</td>\n",
       "    </tr>\n",
       "    <tr>\n",
       "      <th>1</th>\n",
       "      <td>baring road, london, se12</td>\n",
       "      <td>33.4</td>\n",
       "      <td>0.021285</td>\n",
       "      <td>51.432353</td>\n",
       "    </tr>\n",
       "    <tr>\n",
       "      <th>2</th>\n",
       "      <td>Bell Green, London,</td>\n",
       "      <td>32.5</td>\n",
       "      <td>-0.037459</td>\n",
       "      <td>51.430748</td>\n",
       "    </tr>\n",
       "    <tr>\n",
       "      <th>3</th>\n",
       "      <td>montpelier vale, blackheath, london</td>\n",
       "      <td>31.2</td>\n",
       "      <td>0.008612</td>\n",
       "      <td>51.466384</td>\n",
       "    </tr>\n",
       "    <tr>\n",
       "      <th>4</th>\n",
       "      <td>New Cross Rd, London, SE14 6AR</td>\n",
       "      <td>30.1</td>\n",
       "      <td>-0.039447</td>\n",
       "      <td>51.475109</td>\n",
       "    </tr>\n",
       "    <tr>\n",
       "      <th>...</th>\n",
       "      <td>...</td>\n",
       "      <td>...</td>\n",
       "      <td>...</td>\n",
       "      <td>...</td>\n",
       "    </tr>\n",
       "    <tr>\n",
       "      <th>96</th>\n",
       "      <td>12 Pragnell Road, London, SE12 0LF</td>\n",
       "      <td>17.4</td>\n",
       "      <td>0.020850</td>\n",
       "      <td>51.437360</td>\n",
       "    </tr>\n",
       "    <tr>\n",
       "      <th>97</th>\n",
       "      <td>Dacres Rd, Lewisham, London</td>\n",
       "      <td>17.4</td>\n",
       "      <td>-0.047564</td>\n",
       "      <td>51.431476</td>\n",
       "    </tr>\n",
       "    <tr>\n",
       "      <th>98</th>\n",
       "      <td>193 George Lane, London, SE13 6RY</td>\n",
       "      <td>16.7</td>\n",
       "      <td>-0.007804</td>\n",
       "      <td>51.449719</td>\n",
       "    </tr>\n",
       "    <tr>\n",
       "      <th>99</th>\n",
       "      <td>Downham Way,</td>\n",
       "      <td>16.6</td>\n",
       "      <td>0.020702</td>\n",
       "      <td>51.430688</td>\n",
       "    </tr>\n",
       "    <tr>\n",
       "      <th>100</th>\n",
       "      <td>Greenvale School, London, SE6 1UF</td>\n",
       "      <td>15.9</td>\n",
       "      <td>0.003715</td>\n",
       "      <td>51.433264</td>\n",
       "    </tr>\n",
       "  </tbody>\n",
       "</table>\n",
       "<p>101 rows × 4 columns</p>\n",
       "</div>"
      ],
      "text/plain": [
       "                                Location  Result  Longitude   Latitude\n",
       "0      290 Brownhill Rd, London, SE6 1AU    34.0  -0.006304  51.445074\n",
       "1              baring road, london, se12    33.4   0.021285  51.432353\n",
       "2                   Bell Green, London,     32.5  -0.037459  51.430748\n",
       "3    montpelier vale, blackheath, london    31.2   0.008612  51.466384\n",
       "4         New Cross Rd, London, SE14 6AR    30.1  -0.039447  51.475109\n",
       "..                                   ...     ...        ...        ...\n",
       "96    12 Pragnell Road, London, SE12 0LF    17.4   0.020850  51.437360\n",
       "97           Dacres Rd, Lewisham, London    17.4  -0.047564  51.431476\n",
       "98     193 George Lane, London, SE13 6RY    16.7  -0.007804  51.449719\n",
       "99                         Downham Way,     16.6   0.020702  51.430688\n",
       "100    Greenvale School, London, SE6 1UF    15.9   0.003715  51.433264\n",
       "\n",
       "[101 rows x 4 columns]"
      ]
     },
     "execution_count": 152,
     "metadata": {},
     "output_type": "execute_result"
    }
   ],
   "source": [
    "# apply the function to the dataframe\n",
    "xlfile = pd.concat([xlfile, xlfile.apply(geocode_ltn, axis=1,result_type='expand')], axis=1)\n",
    "# name the newly created long lat columns\n",
    "xlfile.rename(columns={0:\"Longitude\", 1:\"Latitude\"}, inplace=True)"
   ]
  },
  {
   "cell_type": "code",
   "execution_count": 153,
   "metadata": {},
   "outputs": [
    {
     "data": {
      "text/html": [
       "<div>\n",
       "<style scoped>\n",
       "    .dataframe tbody tr th:only-of-type {\n",
       "        vertical-align: middle;\n",
       "    }\n",
       "\n",
       "    .dataframe tbody tr th {\n",
       "        vertical-align: top;\n",
       "    }\n",
       "\n",
       "    .dataframe thead th {\n",
       "        text-align: right;\n",
       "    }\n",
       "</style>\n",
       "<table border=\"1\" class=\"dataframe\">\n",
       "  <thead>\n",
       "    <tr style=\"text-align: right;\">\n",
       "      <th></th>\n",
       "      <th>Location</th>\n",
       "      <th>Result</th>\n",
       "      <th>Longitude</th>\n",
       "      <th>Latitude</th>\n",
       "    </tr>\n",
       "  </thead>\n",
       "  <tbody>\n",
       "    <tr>\n",
       "      <th>17</th>\n",
       "      <td></td>\n",
       "      <td>26.9</td>\n",
       "      <td>NaN</td>\n",
       "      <td>NaN</td>\n",
       "    </tr>\n",
       "    <tr>\n",
       "      <th>54</th>\n",
       "      <td>1 Plough WayLondon SE16 2LS</td>\n",
       "      <td>21.1</td>\n",
       "      <td>NaN</td>\n",
       "      <td>NaN</td>\n",
       "    </tr>\n",
       "    <tr>\n",
       "      <th>67</th>\n",
       "      <td>Lucas Vale Primary School, London, SE8 4QF</td>\n",
       "      <td>20.2</td>\n",
       "      <td>NaN</td>\n",
       "      <td>NaN</td>\n",
       "    </tr>\n",
       "    <tr>\n",
       "      <th>72</th>\n",
       "      <td>Christ Church C E Primary School, Forest Hill,...</td>\n",
       "      <td>19.7</td>\n",
       "      <td>NaN</td>\n",
       "      <td>NaN</td>\n",
       "    </tr>\n",
       "    <tr>\n",
       "      <th>73</th>\n",
       "      <td>St James Hatcham School, London, SE14 6AD</td>\n",
       "      <td>19.6</td>\n",
       "      <td>NaN</td>\n",
       "      <td>NaN</td>\n",
       "    </tr>\n",
       "    <tr>\n",
       "      <th>80</th>\n",
       "      <td>51 Polstead Road, London, SE6 4YH</td>\n",
       "      <td>19.1</td>\n",
       "      <td>NaN</td>\n",
       "      <td>NaN</td>\n",
       "    </tr>\n",
       "    <tr>\n",
       "      <th>86</th>\n",
       "      <td>St Mary Magdalen's, Howson Road, London SE4 2BB</td>\n",
       "      <td>17.8</td>\n",
       "      <td>NaN</td>\n",
       "      <td>NaN</td>\n",
       "    </tr>\n",
       "    <tr>\n",
       "      <th>92</th>\n",
       "      <td>Ashmead Primary School, London SE8 4DX</td>\n",
       "      <td>17.6</td>\n",
       "      <td>NaN</td>\n",
       "      <td>NaN</td>\n",
       "    </tr>\n",
       "  </tbody>\n",
       "</table>\n",
       "</div>"
      ],
      "text/plain": [
       "                                             Location  Result  Longitude  \\\n",
       "17                                                       26.9        NaN   \n",
       "54                        1 Plough WayLondon SE16 2LS    21.1        NaN   \n",
       "67         Lucas Vale Primary School, London, SE8 4QF    20.2        NaN   \n",
       "72  Christ Church C E Primary School, Forest Hill,...    19.7        NaN   \n",
       "73         St James Hatcham School, London, SE14 6AD     19.6        NaN   \n",
       "80                  51 Polstead Road, London, SE6 4YH    19.1        NaN   \n",
       "86    St Mary Magdalen's, Howson Road, London SE4 2BB    17.8        NaN   \n",
       "92             Ashmead Primary School, London SE8 4DX    17.6        NaN   \n",
       "\n",
       "    Latitude  \n",
       "17       NaN  \n",
       "54       NaN  \n",
       "67       NaN  \n",
       "72       NaN  \n",
       "73       NaN  \n",
       "80       NaN  \n",
       "86       NaN  \n",
       "92       NaN  "
      ]
     },
     "execution_count": 153,
     "metadata": {},
     "output_type": "execute_result"
    }
   ],
   "source": [
    "# look for non geocoded locations\n",
    "xlfile[xlfile.Longitude.isna()]"
   ]
  },
  {
   "cell_type": "code",
   "execution_count": 154,
   "metadata": {},
   "outputs": [],
   "source": [
    "# output to csv\n",
    "xlfile.to_csv('../data/processed/ltn-plus-regular-sensors-geocoded.csv', index=False)"
   ]
  },
  {
   "cell_type": "code",
   "execution_count": 268,
   "metadata": {},
   "outputs": [],
   "source": [
    "# create a geometry series from the long lat columns\n",
    "geometry = gpd.points_from_xy(xlfile.Longitude, xlfile.Latitude, crs=\"EPSG:4326\")"
   ]
  },
  {
   "cell_type": "code",
   "execution_count": 329,
   "metadata": {},
   "outputs": [],
   "source": [
    "# create a geo dataframe from the data + geometry series\n",
    "gdf = gpd.GeoDataFrame(data=xlfile, crs=\"EPSG:4326\", geometry=geometry)"
   ]
  },
  {
   "cell_type": "code",
   "execution_count": 330,
   "metadata": {},
   "outputs": [],
   "source": [
    "# remove the long lat columns (they are now in the geometry column)\n",
    "gdf.drop(['Longitude', 'Latitude'], axis=1, inplace=True)"
   ]
  },
  {
   "cell_type": "code",
   "execution_count": 343,
   "metadata": {},
   "outputs": [
    {
     "data": {
      "text/html": [
       "<div>\n",
       "<style scoped>\n",
       "    .dataframe tbody tr th:only-of-type {\n",
       "        vertical-align: middle;\n",
       "    }\n",
       "\n",
       "    .dataframe tbody tr th {\n",
       "        vertical-align: top;\n",
       "    }\n",
       "\n",
       "    .dataframe thead th {\n",
       "        text-align: right;\n",
       "    }\n",
       "</style>\n",
       "<table border=\"1\" class=\"dataframe\">\n",
       "  <thead>\n",
       "    <tr style=\"text-align: right;\">\n",
       "      <th></th>\n",
       "      <th>Location</th>\n",
       "      <th>Result</th>\n",
       "      <th>geometry</th>\n",
       "    </tr>\n",
       "  </thead>\n",
       "  <tbody>\n",
       "    <tr>\n",
       "      <th>17</th>\n",
       "      <td></td>\n",
       "      <td>26.9</td>\n",
       "      <td>GEOMETRYCOLLECTION EMPTY</td>\n",
       "    </tr>\n",
       "    <tr>\n",
       "      <th>26</th>\n",
       "      <td>119 Sandhurst Rd, London SE6 1UR</td>\n",
       "      <td>25.5</td>\n",
       "      <td>GEOMETRYCOLLECTION EMPTY</td>\n",
       "    </tr>\n",
       "    <tr>\n",
       "      <th>28</th>\n",
       "      <td>Oakridge Rd,</td>\n",
       "      <td>25.3</td>\n",
       "      <td>GEOMETRYCOLLECTION EMPTY</td>\n",
       "    </tr>\n",
       "    <tr>\n",
       "      <th>37</th>\n",
       "      <td>Sparta Street, London</td>\n",
       "      <td>23.6</td>\n",
       "      <td>GEOMETRYCOLLECTION EMPTY</td>\n",
       "    </tr>\n",
       "    <tr>\n",
       "      <th>54</th>\n",
       "      <td>1 Plough WayLondon SE16 2LS</td>\n",
       "      <td>21.1</td>\n",
       "      <td>GEOMETRYCOLLECTION EMPTY</td>\n",
       "    </tr>\n",
       "    <tr>\n",
       "      <th>67</th>\n",
       "      <td>Lucas Vale Primary School, London, SE8 4QF</td>\n",
       "      <td>20.2</td>\n",
       "      <td>GEOMETRYCOLLECTION EMPTY</td>\n",
       "    </tr>\n",
       "    <tr>\n",
       "      <th>72</th>\n",
       "      <td>Christ Church C E Primary School, Forest Hill,...</td>\n",
       "      <td>19.7</td>\n",
       "      <td>GEOMETRYCOLLECTION EMPTY</td>\n",
       "    </tr>\n",
       "    <tr>\n",
       "      <th>73</th>\n",
       "      <td>St James Hatcham School, London, SE14 6AD</td>\n",
       "      <td>19.6</td>\n",
       "      <td>GEOMETRYCOLLECTION EMPTY</td>\n",
       "    </tr>\n",
       "    <tr>\n",
       "      <th>76</th>\n",
       "      <td>Montague Avenue, London</td>\n",
       "      <td>19.4</td>\n",
       "      <td>GEOMETRYCOLLECTION EMPTY</td>\n",
       "    </tr>\n",
       "    <tr>\n",
       "      <th>79</th>\n",
       "      <td>19 Manor Road, Beckenham, BR3 5JB</td>\n",
       "      <td>19.2</td>\n",
       "      <td>GEOMETRYCOLLECTION EMPTY</td>\n",
       "    </tr>\n",
       "    <tr>\n",
       "      <th>80</th>\n",
       "      <td>51 Polstead Road, London, SE6 4YH</td>\n",
       "      <td>19.1</td>\n",
       "      <td>GEOMETRYCOLLECTION EMPTY</td>\n",
       "    </tr>\n",
       "    <tr>\n",
       "      <th>86</th>\n",
       "      <td>St Mary Magdalen's, Howson Road, London SE4 2BB</td>\n",
       "      <td>17.8</td>\n",
       "      <td>GEOMETRYCOLLECTION EMPTY</td>\n",
       "    </tr>\n",
       "    <tr>\n",
       "      <th>91</th>\n",
       "      <td>1 Woodville Close, London, SE3 8ED</td>\n",
       "      <td>17.7</td>\n",
       "      <td>GEOMETRYCOLLECTION EMPTY</td>\n",
       "    </tr>\n",
       "    <tr>\n",
       "      <th>92</th>\n",
       "      <td>Ashmead Primary School, London SE8 4DX</td>\n",
       "      <td>17.6</td>\n",
       "      <td>GEOMETRYCOLLECTION EMPTY</td>\n",
       "    </tr>\n",
       "  </tbody>\n",
       "</table>\n",
       "</div>"
      ],
      "text/plain": [
       "                                             Location  Result  \\\n",
       "17                                                       26.9   \n",
       "26                   119 Sandhurst Rd, London SE6 1UR    25.5   \n",
       "28                                      Oakridge Rd,     25.3   \n",
       "37                              Sparta Street, London    23.6   \n",
       "54                        1 Plough WayLondon SE16 2LS    21.1   \n",
       "67         Lucas Vale Primary School, London, SE8 4QF    20.2   \n",
       "72  Christ Church C E Primary School, Forest Hill,...    19.7   \n",
       "73         St James Hatcham School, London, SE14 6AD     19.6   \n",
       "76                            Montague Avenue, London    19.4   \n",
       "79                  19 Manor Road, Beckenham, BR3 5JB    19.2   \n",
       "80                  51 Polstead Road, London, SE6 4YH    19.1   \n",
       "86    St Mary Magdalen's, Howson Road, London SE4 2BB    17.8   \n",
       "91                 1 Woodville Close, London, SE3 8ED    17.7   \n",
       "92             Ashmead Primary School, London SE8 4DX    17.6   \n",
       "\n",
       "                    geometry  \n",
       "17  GEOMETRYCOLLECTION EMPTY  \n",
       "26  GEOMETRYCOLLECTION EMPTY  \n",
       "28  GEOMETRYCOLLECTION EMPTY  \n",
       "37  GEOMETRYCOLLECTION EMPTY  \n",
       "54  GEOMETRYCOLLECTION EMPTY  \n",
       "67  GEOMETRYCOLLECTION EMPTY  \n",
       "72  GEOMETRYCOLLECTION EMPTY  \n",
       "73  GEOMETRYCOLLECTION EMPTY  \n",
       "76  GEOMETRYCOLLECTION EMPTY  \n",
       "79  GEOMETRYCOLLECTION EMPTY  \n",
       "80  GEOMETRYCOLLECTION EMPTY  \n",
       "86  GEOMETRYCOLLECTION EMPTY  \n",
       "91  GEOMETRYCOLLECTION EMPTY  \n",
       "92  GEOMETRYCOLLECTION EMPTY  "
      ]
     },
     "execution_count": 343,
     "metadata": {},
     "output_type": "execute_result"
    }
   ],
   "source": [
    "# check non geocoded locations\n",
    "gdf[gdf.is_empty]"
   ]
  },
  {
   "cell_type": "code",
   "execution_count": 331,
   "metadata": {},
   "outputs": [
    {
     "data": {
      "text/plain": [
       "<AxesSubplot:>"
      ]
     },
     "execution_count": 331,
     "metadata": {},
     "output_type": "execute_result"
    },
    {
     "data": {
      "image/png": "[encoded data removed]",
      "text/plain": [
       "<Figure size 432x288 with 1 Axes>"
      ]
     },
     "metadata": {
      "needs_background": "light"
     },
     "output_type": "display_data"
    }
   ],
   "source": [
    "# remove empty geometries and explore the data for baddly geocoded fields\n",
    "gdf[~gdf.is_empty].plot()\n",
    "# oh dear, there are some bad geocoded fields"
   ]
  },
  {
   "cell_type": "code",
   "execution_count": 235,
   "metadata": {},
   "outputs": [],
   "source": [
    "# get lewisham geometry so we can remove points outside it\n",
    "lewisham = gpd.read_file('https://gist.githubusercontent.com/joe-liad/e66e2ec493ce3de692595b64eeb27b99/raw/bfaafeec350dfe4e5a20866a4660a188f8e6df7d/lewisham-wards.geojson')"
   ]
  },
  {
   "cell_type": "code",
   "execution_count": 341,
   "metadata": {},
   "outputs": [
    {
     "data": {
      "text/plain": [
       "<AxesSubplot:>"
      ]
     },
     "execution_count": 341,
     "metadata": {},
     "output_type": "execute_result"
    },
    {
     "data": {
      "image/png": "[encoded data removed]",
      "text/plain": [
       "<Figure size 432x288 with 1 Axes>"
      ]
     },
     "metadata": {
      "needs_background": "light"
     },
     "output_type": "display_data"
    }
   ],
   "source": [
    "# check within\n",
    "gdf[gdf.within(lewisham.geometry.unary_union)].plot()"
   ]
  },
  {
   "cell_type": "code",
   "execution_count": 333,
   "metadata": {},
   "outputs": [
    {
     "data": {
      "text/html": [
       "<div>\n",
       "<style scoped>\n",
       "    .dataframe tbody tr th:only-of-type {\n",
       "        vertical-align: middle;\n",
       "    }\n",
       "\n",
       "    .dataframe tbody tr th {\n",
       "        vertical-align: top;\n",
       "    }\n",
       "\n",
       "    .dataframe thead th {\n",
       "        text-align: right;\n",
       "    }\n",
       "</style>\n",
       "<table border=\"1\" class=\"dataframe\">\n",
       "  <thead>\n",
       "    <tr style=\"text-align: right;\">\n",
       "      <th></th>\n",
       "      <th>Location</th>\n",
       "      <th>Result</th>\n",
       "      <th>geometry</th>\n",
       "    </tr>\n",
       "  </thead>\n",
       "  <tbody>\n",
       "    <tr>\n",
       "      <th>17</th>\n",
       "      <td></td>\n",
       "      <td>26.9</td>\n",
       "      <td>POINT EMPTY</td>\n",
       "    </tr>\n",
       "    <tr>\n",
       "      <th>26</th>\n",
       "      <td>119 Sandhurst Rd, London SE6 1UR</td>\n",
       "      <td>25.5</td>\n",
       "      <td>POINT (-0.04348 51.63910)</td>\n",
       "    </tr>\n",
       "    <tr>\n",
       "      <th>28</th>\n",
       "      <td>Oakridge Rd,</td>\n",
       "      <td>25.3</td>\n",
       "      <td>POINT (-1.09628 51.27597)</td>\n",
       "    </tr>\n",
       "    <tr>\n",
       "      <th>37</th>\n",
       "      <td>Sparta Street, London</td>\n",
       "      <td>23.6</td>\n",
       "      <td>POINT (-0.01487 51.47187)</td>\n",
       "    </tr>\n",
       "    <tr>\n",
       "      <th>54</th>\n",
       "      <td>1 Plough WayLondon SE16 2LS</td>\n",
       "      <td>21.1</td>\n",
       "      <td>POINT EMPTY</td>\n",
       "    </tr>\n",
       "    <tr>\n",
       "      <th>67</th>\n",
       "      <td>Lucas Vale Primary School, London, SE8 4QF</td>\n",
       "      <td>20.2</td>\n",
       "      <td>POINT EMPTY</td>\n",
       "    </tr>\n",
       "    <tr>\n",
       "      <th>72</th>\n",
       "      <td>Christ Church C E Primary School, Forest Hill,...</td>\n",
       "      <td>19.7</td>\n",
       "      <td>POINT EMPTY</td>\n",
       "    </tr>\n",
       "    <tr>\n",
       "      <th>73</th>\n",
       "      <td>St James Hatcham School, London, SE14 6AD</td>\n",
       "      <td>19.6</td>\n",
       "      <td>POINT EMPTY</td>\n",
       "    </tr>\n",
       "    <tr>\n",
       "      <th>76</th>\n",
       "      <td>Montague Avenue, London</td>\n",
       "      <td>19.4</td>\n",
       "      <td>POINT (-0.33533 51.50760)</td>\n",
       "    </tr>\n",
       "    <tr>\n",
       "      <th>79</th>\n",
       "      <td>19 Manor Road, Beckenham, BR3 5JB</td>\n",
       "      <td>19.2</td>\n",
       "      <td>POINT (-0.02300 51.40735)</td>\n",
       "    </tr>\n",
       "    <tr>\n",
       "      <th>80</th>\n",
       "      <td>51 Polstead Road, London, SE6 4YH</td>\n",
       "      <td>19.1</td>\n",
       "      <td>POINT EMPTY</td>\n",
       "    </tr>\n",
       "    <tr>\n",
       "      <th>86</th>\n",
       "      <td>St Mary Magdalen's, Howson Road, London SE4 2BB</td>\n",
       "      <td>17.8</td>\n",
       "      <td>POINT EMPTY</td>\n",
       "    </tr>\n",
       "    <tr>\n",
       "      <th>91</th>\n",
       "      <td>1 Woodville Close, London, SE3 8ED</td>\n",
       "      <td>17.7</td>\n",
       "      <td>POINT (0.02580 51.47415)</td>\n",
       "    </tr>\n",
       "    <tr>\n",
       "      <th>92</th>\n",
       "      <td>Ashmead Primary School, London SE8 4DX</td>\n",
       "      <td>17.6</td>\n",
       "      <td>POINT EMPTY</td>\n",
       "    </tr>\n",
       "  </tbody>\n",
       "</table>\n",
       "</div>"
      ],
      "text/plain": [
       "                                             Location  Result  \\\n",
       "17                                                       26.9   \n",
       "26                   119 Sandhurst Rd, London SE6 1UR    25.5   \n",
       "28                                      Oakridge Rd,     25.3   \n",
       "37                              Sparta Street, London    23.6   \n",
       "54                        1 Plough WayLondon SE16 2LS    21.1   \n",
       "67         Lucas Vale Primary School, London, SE8 4QF    20.2   \n",
       "72  Christ Church C E Primary School, Forest Hill,...    19.7   \n",
       "73         St James Hatcham School, London, SE14 6AD     19.6   \n",
       "76                            Montague Avenue, London    19.4   \n",
       "79                  19 Manor Road, Beckenham, BR3 5JB    19.2   \n",
       "80                  51 Polstead Road, London, SE6 4YH    19.1   \n",
       "86    St Mary Magdalen's, Howson Road, London SE4 2BB    17.8   \n",
       "91                 1 Woodville Close, London, SE3 8ED    17.7   \n",
       "92             Ashmead Primary School, London SE8 4DX    17.6   \n",
       "\n",
       "                     geometry  \n",
       "17                POINT EMPTY  \n",
       "26  POINT (-0.04348 51.63910)  \n",
       "28  POINT (-1.09628 51.27597)  \n",
       "37  POINT (-0.01487 51.47187)  \n",
       "54                POINT EMPTY  \n",
       "67                POINT EMPTY  \n",
       "72                POINT EMPTY  \n",
       "73                POINT EMPTY  \n",
       "76  POINT (-0.33533 51.50760)  \n",
       "79  POINT (-0.02300 51.40735)  \n",
       "80                POINT EMPTY  \n",
       "86                POINT EMPTY  \n",
       "91   POINT (0.02580 51.47415)  \n",
       "92                POINT EMPTY  "
      ]
     },
     "execution_count": 333,
     "metadata": {},
     "output_type": "execute_result"
    }
   ],
   "source": [
    "# check not within\n",
    "gdf[~gdf.within(lewisham.geometry.unary_union)]\n",
    "# some are not within the lewisham wards, and some didn't geocode"
   ]
  },
  {
   "cell_type": "code",
   "execution_count": 334,
   "metadata": {},
   "outputs": [],
   "source": [
    "# nullify the badly geocoded locations\n",
    "from shapely.geometry import Point\n",
    "for index, row in gdf[~gdf.within(lewisham.geometry.unary_union)].iterrows():\n",
    "    gdf.loc[index, 'geometry'] = Point()"
   ]
  },
  {
   "cell_type": "code",
   "execution_count": 340,
   "metadata": {},
   "outputs": [
    {
     "data": {
      "text/html": [
       "<div>\n",
       "<style scoped>\n",
       "    .dataframe tbody tr th:only-of-type {\n",
       "        vertical-align: middle;\n",
       "    }\n",
       "\n",
       "    .dataframe tbody tr th {\n",
       "        vertical-align: top;\n",
       "    }\n",
       "\n",
       "    .dataframe thead th {\n",
       "        text-align: right;\n",
       "    }\n",
       "</style>\n",
       "<table border=\"1\" class=\"dataframe\">\n",
       "  <thead>\n",
       "    <tr style=\"text-align: right;\">\n",
       "      <th></th>\n",
       "      <th>Location</th>\n",
       "      <th>Result</th>\n",
       "      <th>geometry</th>\n",
       "    </tr>\n",
       "  </thead>\n",
       "  <tbody>\n",
       "    <tr>\n",
       "      <th>17</th>\n",
       "      <td></td>\n",
       "      <td>26.9</td>\n",
       "      <td>GEOMETRYCOLLECTION EMPTY</td>\n",
       "    </tr>\n",
       "    <tr>\n",
       "      <th>26</th>\n",
       "      <td>119 Sandhurst Rd, London SE6 1UR</td>\n",
       "      <td>25.5</td>\n",
       "      <td>GEOMETRYCOLLECTION EMPTY</td>\n",
       "    </tr>\n",
       "    <tr>\n",
       "      <th>28</th>\n",
       "      <td>Oakridge Rd,</td>\n",
       "      <td>25.3</td>\n",
       "      <td>GEOMETRYCOLLECTION EMPTY</td>\n",
       "    </tr>\n",
       "    <tr>\n",
       "      <th>37</th>\n",
       "      <td>Sparta Street, London</td>\n",
       "      <td>23.6</td>\n",
       "      <td>GEOMETRYCOLLECTION EMPTY</td>\n",
       "    </tr>\n",
       "    <tr>\n",
       "      <th>54</th>\n",
       "      <td>1 Plough WayLondon SE16 2LS</td>\n",
       "      <td>21.1</td>\n",
       "      <td>GEOMETRYCOLLECTION EMPTY</td>\n",
       "    </tr>\n",
       "    <tr>\n",
       "      <th>67</th>\n",
       "      <td>Lucas Vale Primary School, London, SE8 4QF</td>\n",
       "      <td>20.2</td>\n",
       "      <td>GEOMETRYCOLLECTION EMPTY</td>\n",
       "    </tr>\n",
       "    <tr>\n",
       "      <th>72</th>\n",
       "      <td>Christ Church C E Primary School, Forest Hill,...</td>\n",
       "      <td>19.7</td>\n",
       "      <td>GEOMETRYCOLLECTION EMPTY</td>\n",
       "    </tr>\n",
       "    <tr>\n",
       "      <th>73</th>\n",
       "      <td>St James Hatcham School, London, SE14 6AD</td>\n",
       "      <td>19.6</td>\n",
       "      <td>GEOMETRYCOLLECTION EMPTY</td>\n",
       "    </tr>\n",
       "    <tr>\n",
       "      <th>76</th>\n",
       "      <td>Montague Avenue, London</td>\n",
       "      <td>19.4</td>\n",
       "      <td>GEOMETRYCOLLECTION EMPTY</td>\n",
       "    </tr>\n",
       "    <tr>\n",
       "      <th>79</th>\n",
       "      <td>19 Manor Road, Beckenham, BR3 5JB</td>\n",
       "      <td>19.2</td>\n",
       "      <td>GEOMETRYCOLLECTION EMPTY</td>\n",
       "    </tr>\n",
       "    <tr>\n",
       "      <th>80</th>\n",
       "      <td>51 Polstead Road, London, SE6 4YH</td>\n",
       "      <td>19.1</td>\n",
       "      <td>GEOMETRYCOLLECTION EMPTY</td>\n",
       "    </tr>\n",
       "    <tr>\n",
       "      <th>86</th>\n",
       "      <td>St Mary Magdalen's, Howson Road, London SE4 2BB</td>\n",
       "      <td>17.8</td>\n",
       "      <td>GEOMETRYCOLLECTION EMPTY</td>\n",
       "    </tr>\n",
       "    <tr>\n",
       "      <th>91</th>\n",
       "      <td>1 Woodville Close, London, SE3 8ED</td>\n",
       "      <td>17.7</td>\n",
       "      <td>GEOMETRYCOLLECTION EMPTY</td>\n",
       "    </tr>\n",
       "    <tr>\n",
       "      <th>92</th>\n",
       "      <td>Ashmead Primary School, London SE8 4DX</td>\n",
       "      <td>17.6</td>\n",
       "      <td>GEOMETRYCOLLECTION EMPTY</td>\n",
       "    </tr>\n",
       "  </tbody>\n",
       "</table>\n",
       "</div>"
      ],
      "text/plain": [
       "                                             Location  Result  \\\n",
       "17                                                       26.9   \n",
       "26                   119 Sandhurst Rd, London SE6 1UR    25.5   \n",
       "28                                      Oakridge Rd,     25.3   \n",
       "37                              Sparta Street, London    23.6   \n",
       "54                        1 Plough WayLondon SE16 2LS    21.1   \n",
       "67         Lucas Vale Primary School, London, SE8 4QF    20.2   \n",
       "72  Christ Church C E Primary School, Forest Hill,...    19.7   \n",
       "73         St James Hatcham School, London, SE14 6AD     19.6   \n",
       "76                            Montague Avenue, London    19.4   \n",
       "79                  19 Manor Road, Beckenham, BR3 5JB    19.2   \n",
       "80                  51 Polstead Road, London, SE6 4YH    19.1   \n",
       "86    St Mary Magdalen's, Howson Road, London SE4 2BB    17.8   \n",
       "91                 1 Woodville Close, London, SE3 8ED    17.7   \n",
       "92             Ashmead Primary School, London SE8 4DX    17.6   \n",
       "\n",
       "                    geometry  \n",
       "17  GEOMETRYCOLLECTION EMPTY  \n",
       "26  GEOMETRYCOLLECTION EMPTY  \n",
       "28  GEOMETRYCOLLECTION EMPTY  \n",
       "37  GEOMETRYCOLLECTION EMPTY  \n",
       "54  GEOMETRYCOLLECTION EMPTY  \n",
       "67  GEOMETRYCOLLECTION EMPTY  \n",
       "72  GEOMETRYCOLLECTION EMPTY  \n",
       "73  GEOMETRYCOLLECTION EMPTY  \n",
       "76  GEOMETRYCOLLECTION EMPTY  \n",
       "79  GEOMETRYCOLLECTION EMPTY  \n",
       "80  GEOMETRYCOLLECTION EMPTY  \n",
       "86  GEOMETRYCOLLECTION EMPTY  \n",
       "91  GEOMETRYCOLLECTION EMPTY  \n",
       "92  GEOMETRYCOLLECTION EMPTY  "
      ]
     },
     "execution_count": 340,
     "metadata": {},
     "output_type": "execute_result"
    }
   ],
   "source": [
    "gdf[gdf.is_empty]"
   ]
  },
  {
   "cell_type": "code",
   "execution_count": 344,
   "metadata": {},
   "outputs": [
    {
     "data": {
      "text/html": [
       "<div style=\"width:100%;\"><div style=\"position:relative;width:100%;height:0;padding-bottom:60%;\"><span style=\"color:#565656\">Make this Notebook Trusted to load map: File -> Trust Notebook</span><iframe src=\"about:blank\" style=\"position:absolute;width:100%;height:100%;left:0;top:0;border:none !important;\" data-html=%3C%21DOCTYPE%20html%3E%0A%3Chead%3E%20%20%20%20%0A%20%20%20%20%3Cmeta%20http-equiv%3D%22content-type%22%20content%3D%22text/html%3B%20charset%3DUTF-8%22%20/%3E%0A%20%20%20%20%0A%20%20%20%20%20%20%20%20%3Cscript%3E%0A%20%20%20%20%20%20%20%20%20%20%20%20L_NO_TOUCH%20%3D%20false%3B%0A%20%20%20%20%20%20%20%20%20%20%20%20L_DISABLE_3D%20%3D%20false%3B%0A%20%20%20%20%20%20%20%20%3C/script%3E%0A%20%20%20%20%0A%20%20%20%20%3Cstyle%3Ehtml%2C%20body%20%7Bwidth%3A%20100%25%3Bheight%3A%20100%25%3Bmargin%3A%200%3Bpadding%3A%200%3B%7D%3C/style%3E%0A%20%20%20%20%3Cstyle%3E%23map%20%7Bposition%3Aabsolute%3Btop%3A0%3Bbottom%3A0%3Bright%3A0%3Bleft%3A0%3B%7D%3C/style%3E%0A%20%20%20%20%3Cscript%20src%3D%22https%3A//cdn.jsdelivr.net/npm/leaflet%401.6.0/dist/leaflet.js%22%3E%3C/script%3E%0A%20%20%20%20%3Cscript%20src%3D%22https%3A//code.jquery.com/jquery-1.12.4.min.js%22%3E%3C/script%3E%0A%20%20%20%20%3Cscript%20src%3D%22https%3A//maxcdn.bootstrapcdn.com/bootstrap/3.2.0/js/bootstrap.min.js%22%3E%3C/script%3E%0A%20%20%20%20%3Cscript%20src%3D%22https%3A//cdnjs.cloudflare.com/ajax/libs/Leaflet.awesome-markers/2.0.2/leaflet.awesome-markers.js%22%3E%3C/script%3E%0A%20%20%20%20%3Clink%20rel%3D%22stylesheet%22%20href%3D%22https%3A//cdn.jsdelivr.net/npm/leaflet%401.6.0/dist/leaflet.css%22/%3E%0A%20%20%20%20%3Clink%20rel%3D%22stylesheet%22%20href%3D%22https%3A//maxcdn.bootstrapcdn.com/bootstrap/3.2.0/css/bootstrap.min.css%22/%3E%0A%20%20%20%20%3Clink%20rel%3D%22stylesheet%22%20href%3D%22https%3A//maxcdn.bootstrapcdn.com/bootstrap/3.2.0/css/bootstrap-theme.min.css%22/%3E%0A%20%20%20%20%3Clink%20rel%3D%22stylesheet%22%20href%3D%22https%3A//maxcdn.bootstrapcdn.com/font-awesome/4.6.3/css/font-awesome.min.css%22/%3E%0A%20%20%20%20%3Clink%20rel%3D%22stylesheet%22%20href%3D%22https%3A//cdnjs.cloudflare.com/ajax/libs/Leaflet.awesome-markers/2.0.2/leaflet.awesome-markers.css%22/%3E%0A%20%20%20%20%3Clink%20rel%3D%22stylesheet%22%20href%3D%22https%3A//cdn.jsdelivr.net/gh/python-visualization/folium/folium/templates/leaflet.awesome.rotate.min.css%22/%3E%0A%20%20%20%20%0A%20%20%20%20%20%20%20%20%20%20%20%20%3Cmeta%20name%3D%22viewport%22%20content%3D%22width%3Ddevice-width%2C%0A%20%20%20%20%20%20%20%20%20%20%20%20%20%20%20%20initial-scale%3D1.0%2C%20maximum-scale%3D1.0%2C%20user-scalable%3Dno%22%20/%3E%0A%20%20%20%20%20%20%20%20%20%20%20%20%3Cstyle%3E%0A%20%20%20%20%20%20%20%20%20%20%20%20%20%20%20%20%23map_a6d9577232164bd6b94487cd9ae06d11%20%7B%0A%20%20%20%20%20%20%20%20%20%20%20%20%20%20%20%20%20%20%20%20position%3A%20relative%3B%0A%20%20%20%20%20%20%20%20%20%20%20%20%20%20%20%20%20%20%20%20width%3A%20100.0%25%3B%0A%20%20%20%20%20%20%20%20%20%20%20%20%20%20%20%20%20%20%20%20height%3A%20100.0%25%3B%0A%20%20%20%20%20%20%20%20%20%20%20%20%20%20%20%20%20%20%20%20left%3A%200.0%25%3B%0A%20%20%20%20%20%20%20%20%20%20%20%20%20%20%20%20%20%20%20%20top%3A%200.0%25%3B%0A%20%20%20%20%20%20%20%20%20%20%20%20%20%20%20%20%7D%0A%20%20%20%20%20%20%20%20%20%20%20%20%3C/style%3E%0A%20%20%20%20%20%20%20%20%0A%20%20%20%20%0A%20%20%20%20%20%20%20%20%20%20%20%20%20%20%20%20%20%20%20%20%3Cstyle%3E%0A%20%20%20%20%20%20%20%20%20%20%20%20%20%20%20%20%20%20%20%20%20%20%20%20.foliumtooltip%20%7B%0A%20%20%20%20%20%20%20%20%20%20%20%20%20%20%20%20%20%20%20%20%20%20%20%20%20%20%20%20%0A%20%20%20%20%20%20%20%20%20%20%20%20%20%20%20%20%20%20%20%20%20%20%20%20%7D%0A%20%20%20%20%20%20%20%20%20%20%20%20%20%20%20%20%20%20%20%20%20%20%20.foliumtooltip%20table%7B%0A%20%20%20%20%20%20%20%20%20%20%20%20%20%20%20%20%20%20%20%20%20%20%20%20%20%20%20%20margin%3A%20auto%3B%0A%20%20%20%20%20%20%20%20%20%20%20%20%20%20%20%20%20%20%20%20%20%20%20%20%7D%0A%20%20%20%20%20%20%20%20%20%20%20%20%20%20%20%20%20%20%20%20%20%20%20%20.foliumtooltip%20tr%7B%0A%20%20%20%20%20%20%20%20%20%20%20%20%20%20%20%20%20%20%20%20%20%20%20%20%20%20%20%20text-align%3A%20left%3B%0A%20%20%20%20%20%20%20%20%20%20%20%20%20%20%20%20%20%20%20%20%20%20%20%20%7D%0A%20%20%20%20%20%20%20%20%20%20%20%20%20%20%20%20%20%20%20%20%20%20%20%20.foliumtooltip%20th%7B%0A%20%20%20%20%20%20%20%20%20%20%20%20%20%20%20%20%20%20%20%20%20%20%20%20%20%20%20%20padding%3A%202px%3B%20padding-right%3A%208px%3B%0A%20%20%20%20%20%20%20%20%20%20%20%20%20%20%20%20%20%20%20%20%20%20%20%20%7D%0A%20%20%20%20%20%20%20%20%20%20%20%20%20%20%20%20%20%20%20%20%3C/style%3E%0A%20%20%20%20%20%20%20%20%20%20%20%20%0A%20%20%20%20%3Cscript%20src%3D%22https%3A//cdnjs.cloudflare.com/ajax/libs/d3/3.5.5/d3.min.js%22%3E%3C/script%3E%0A%3C/head%3E%0A%3Cbody%3E%20%20%20%20%0A%20%20%20%20%0A%20%20%20%20%20%20%20%20%20%20%20%20%3Cdiv%20class%3D%22folium-map%22%20id%3D%22map_a6d9577232164bd6b94487cd9ae06d11%22%20%3E%3C/div%3E%0A%20%20%20%20%20%20%20%20%0A%3C/body%3E%0A%3Cscript%3E%20%20%20%20%0A%20%20%20%20%0A%20%20%20%20%20%20%20%20%20%20%20%20var%20map_a6d9577232164bd6b94487cd9ae06d11%20%3D%20L.map%28%0A%20%20%20%20%20%20%20%20%20%20%20%20%20%20%20%20%22map_a6d9577232164bd6b94487cd9ae06d11%22%2C%0A%20%20%20%20%20%20%20%20%20%20%20%20%20%20%20%20%7B%0A%20%20%20%20%20%20%20%20%20%20%20%20%20%20%20%20%20%20%20%20center%3A%20%5B51.454442549999996%2C%20-0.02207865%5D%2C%0A%20%20%20%20%20%20%20%20%20%20%20%20%20%20%20%20%20%20%20%20crs%3A%20L.CRS.EPSG3857%2C%0A%20%20%20%20%20%20%20%20%20%20%20%20%20%20%20%20%20%20%20%20zoom%3A%2010%2C%0A%20%20%20%20%20%20%20%20%20%20%20%20%20%20%20%20%20%20%20%20zoomControl%3A%20true%2C%0A%20%20%20%20%20%20%20%20%20%20%20%20%20%20%20%20%20%20%20%20preferCanvas%3A%20false%2C%0A%20%20%20%20%20%20%20%20%20%20%20%20%20%20%20%20%7D%0A%20%20%20%20%20%20%20%20%20%20%20%20%29%3B%0A%20%20%20%20%20%20%20%20%20%20%20%20L.control.scale%28%29.addTo%28map_a6d9577232164bd6b94487cd9ae06d11%29%3B%0A%0A%20%20%20%20%20%20%20%20%20%20%20%20%0A%0A%20%20%20%20%20%20%20%20%0A%20%20%20%20%0A%20%20%20%20%20%20%20%20%20%20%20%20var%20tile_layer_22eb73f5038142b1a78bc01434bccb1e%20%3D%20L.tileLayer%28%0A%20%20%20%20%20%20%20%20%20%20%20%20%20%20%20%20%22https%3A//stamen-tiles-a.a.ssl.fastly.net/terrain/%7Bz%7D/%7Bx%7D/%7By%7D%7Br%7D.png%22%2C%0A%20%20%20%20%20%20%20%20%20%20%20%20%20%20%20%20%7B%22attribution%22%3A%20%22Map%20tiles%20by%20%5Cu003ca%20href%3D%5C%22http%3A//stamen.com%5C%22%5Cu003eStamen%20Design%5Cu003c/a%5Cu003e%2C%20%5Cu003ca%20href%3D%5C%22http%3A//creativecommons.org/licenses/by/3.0%5C%22%5Cu003eCC%20BY%203.0%5Cu003c/a%5Cu003e%20%5Cu0026mdash%3B%20Map%20data%20%5Cu0026copy%3B%20%5Cu003ca%20href%3D%5C%22https%3A//www.openstreetmap.org/copyright%5C%22%5Cu003eOpenStreetMap%5Cu003c/a%5Cu003e%20contributors%22%2C%20%22detectRetina%22%3A%20false%2C%20%22maxNativeZoom%22%3A%2018%2C%20%22maxZoom%22%3A%2018%2C%20%22minZoom%22%3A%200%2C%20%22noWrap%22%3A%20false%2C%20%22opacity%22%3A%201%2C%20%22subdomains%22%3A%20%22abc%22%2C%20%22tms%22%3A%20false%7D%0A%20%20%20%20%20%20%20%20%20%20%20%20%29.addTo%28map_a6d9577232164bd6b94487cd9ae06d11%29%3B%0A%20%20%20%20%20%20%20%20%0A%20%20%20%20%0A%20%20%20%20%20%20%20%20%20%20%20%20map_a6d9577232164bd6b94487cd9ae06d11.fitBounds%28%0A%20%20%20%20%20%20%20%20%20%20%20%20%20%20%20%20%5B%5B51.4207803%2C%20-0.0716477%5D%2C%20%5B51.4881048%2C%200.0274904%5D%5D%2C%0A%20%20%20%20%20%20%20%20%20%20%20%20%20%20%20%20%7B%7D%0A%20%20%20%20%20%20%20%20%20%20%20%20%29%3B%0A%20%20%20%20%20%20%20%20%0A%20%20%20%20%0A%20%20%20%20%20%20%20%20function%20geo_json_5a0e06d2c6d14ddf8ee7ae478e4b7d57_styler%28feature%29%20%7B%0A%20%20%20%20%20%20%20%20%20%20%20%20switch%28feature.id%29%20%7B%0A%20%20%20%20%20%20%20%20%20%20%20%20%20%20%20%20case%20%220%22%3A%20%0A%20%20%20%20%20%20%20%20%20%20%20%20%20%20%20%20%20%20%20%20return%20%7B%22color%22%3A%20%22%237f0000%22%2C%20%22fillColor%22%3A%20%22%237f0000%22%2C%20%22fillOpacity%22%3A%200.5%2C%20%22weight%22%3A%202%7D%3B%0A%20%20%20%20%20%20%20%20%20%20%20%20%20%20%20%20case%20%221%22%3A%20%0A%20%20%20%20%20%20%20%20%20%20%20%20%20%20%20%20%20%20%20%20return%20%7B%22color%22%3A%20%22%238c0000%22%2C%20%22fillColor%22%3A%20%22%238c0000%22%2C%20%22fillOpacity%22%3A%200.5%2C%20%22weight%22%3A%202%7D%3B%0A%20%20%20%20%20%20%20%20%20%20%20%20%20%20%20%20case%20%222%22%3A%20%0A%20%20%20%20%20%20%20%20%20%20%20%20%20%20%20%20%20%20%20%20return%20%7B%22color%22%3A%20%22%23a10000%22%2C%20%22fillColor%22%3A%20%22%23a10000%22%2C%20%22fillOpacity%22%3A%200.5%2C%20%22weight%22%3A%202%7D%3B%0A%20%20%20%20%20%20%20%20%20%20%20%20%20%20%20%20case%20%223%22%3A%20%0A%20%20%20%20%20%20%20%20%20%20%20%20%20%20%20%20%20%20%20%20return%20%7B%22color%22%3A%20%22%23bb0b07%22%2C%20%22fillColor%22%3A%20%22%23bb0b07%22%2C%20%22fillOpacity%22%3A%200.5%2C%20%22weight%22%3A%202%7D%3B%0A%20%20%20%20%20%20%20%20%20%20%20%20%20%20%20%20case%20%224%22%3A%20case%20%225%22%3A%20%0A%20%20%20%20%20%20%20%20%20%20%20%20%20%20%20%20%20%20%20%20return%20%7B%22color%22%3A%20%22%23cd2316%22%2C%20%22fillColor%22%3A%20%22%23cd2316%22%2C%20%22fillOpacity%22%3A%200.5%2C%20%22weight%22%3A%202%7D%3B%0A%20%20%20%20%20%20%20%20%20%20%20%20%20%20%20%20case%20%226%22%3A%20case%20%227%22%3A%20%0A%20%20%20%20%20%20%20%20%20%20%20%20%20%20%20%20%20%20%20%20return%20%7B%22color%22%3A%20%22%23cf2618%22%2C%20%22fillColor%22%3A%20%22%23cf2618%22%2C%20%22fillOpacity%22%3A%200.5%2C%20%22weight%22%3A%202%7D%3B%0A%20%20%20%20%20%20%20%20%20%20%20%20%20%20%20%20case%20%228%22%3A%20%0A%20%20%20%20%20%20%20%20%20%20%20%20%20%20%20%20%20%20%20%20return%20%7B%22color%22%3A%20%22%23d2291a%22%2C%20%22fillColor%22%3A%20%22%23d2291a%22%2C%20%22fillOpacity%22%3A%200.5%2C%20%22weight%22%3A%202%7D%3B%0A%20%20%20%20%20%20%20%20%20%20%20%20%20%20%20%20case%20%229%22%3A%20case%20%2210%22%3A%20%0A%20%20%20%20%20%20%20%20%20%20%20%20%20%20%20%20%20%20%20%20return%20%7B%22color%22%3A%20%22%23d62f1e%22%2C%20%22fillColor%22%3A%20%22%23d62f1e%22%2C%20%22fillOpacity%22%3A%200.5%2C%20%22weight%22%3A%202%7D%3B%0A%20%20%20%20%20%20%20%20%20%20%20%20%20%20%20%20case%20%2211%22%3A%20%0A%20%20%20%20%20%20%20%20%20%20%20%20%20%20%20%20%20%20%20%20return%20%7B%22color%22%3A%20%22%23e54e36%22%2C%20%22fillColor%22%3A%20%22%23e54e36%22%2C%20%22fillOpacity%22%3A%200.5%2C%20%22weight%22%3A%202%7D%3B%0A%20%20%20%20%20%20%20%20%20%20%20%20%20%20%20%20case%20%2212%22%3A%20%0A%20%20%20%20%20%20%20%20%20%20%20%20%20%20%20%20%20%20%20%20return%20%7B%22color%22%3A%20%22%23e55038%22%2C%20%22fillColor%22%3A%20%22%23e55038%22%2C%20%22fillOpacity%22%3A%200.5%2C%20%22weight%22%3A%202%7D%3B%0A%20%20%20%20%20%20%20%20%20%20%20%20%20%20%20%20case%20%2213%22%3A%20%0A%20%20%20%20%20%20%20%20%20%20%20%20%20%20%20%20%20%20%20%20return%20%7B%22color%22%3A%20%22%23e65239%22%2C%20%22fillColor%22%3A%20%22%23e65239%22%2C%20%22fillOpacity%22%3A%200.5%2C%20%22weight%22%3A%202%7D%3B%0A%20%20%20%20%20%20%20%20%20%20%20%20%20%20%20%20case%20%2214%22%3A%20%0A%20%20%20%20%20%20%20%20%20%20%20%20%20%20%20%20%20%20%20%20return%20%7B%22color%22%3A%20%22%23ea5a3f%22%2C%20%22fillColor%22%3A%20%22%23ea5a3f%22%2C%20%22fillOpacity%22%3A%200.5%2C%20%22weight%22%3A%202%7D%3B%0A%20%20%20%20%20%20%20%20%20%20%20%20%20%20%20%20case%20%2215%22%3A%20%0A%20%20%20%20%20%20%20%20%20%20%20%20%20%20%20%20%20%20%20%20return%20%7B%22color%22%3A%20%22%23ec5d42%22%2C%20%22fillColor%22%3A%20%22%23ec5d42%22%2C%20%22fillOpacity%22%3A%200.5%2C%20%22weight%22%3A%202%7D%3B%0A%20%20%20%20%20%20%20%20%20%20%20%20%20%20%20%20case%20%2216%22%3A%20%0A%20%20%20%20%20%20%20%20%20%20%20%20%20%20%20%20%20%20%20%20return%20%7B%22color%22%3A%20%22%23ee6246%22%2C%20%22fillColor%22%3A%20%22%23ee6246%22%2C%20%22fillOpacity%22%3A%200.5%2C%20%22weight%22%3A%202%7D%3B%0A%20%20%20%20%20%20%20%20%20%20%20%20%20%20%20%20case%20%2218%22%3A%20%0A%20%20%20%20%20%20%20%20%20%20%20%20%20%20%20%20%20%20%20%20return%20%7B%22color%22%3A%20%22%23f4734e%22%2C%20%22fillColor%22%3A%20%22%23f4734e%22%2C%20%22fillOpacity%22%3A%200.5%2C%20%22weight%22%3A%202%7D%3B%0A%20%20%20%20%20%20%20%20%20%20%20%20%20%20%20%20case%20%2219%22%3A%20case%20%2220%22%3A%20%0A%20%20%20%20%20%20%20%20%20%20%20%20%20%20%20%20%20%20%20%20return%20%7B%22color%22%3A%20%22%23f4754f%22%2C%20%22fillColor%22%3A%20%22%23f4754f%22%2C%20%22fillOpacity%22%3A%200.5%2C%20%22weight%22%3A%202%7D%3B%0A%20%20%20%20%20%20%20%20%20%20%20%20%20%20%20%20case%20%2221%22%3A%20case%20%2222%22%3A%20%0A%20%20%20%20%20%20%20%20%20%20%20%20%20%20%20%20%20%20%20%20return%20%7B%22color%22%3A%20%22%23f57850%22%2C%20%22fillColor%22%3A%20%22%23f57850%22%2C%20%22fillOpacity%22%3A%200.5%2C%20%22weight%22%3A%202%7D%3B%0A%20%20%20%20%20%20%20%20%20%20%20%20%20%20%20%20case%20%2223%22%3A%20%0A%20%20%20%20%20%20%20%20%20%20%20%20%20%20%20%20%20%20%20%20return%20%7B%22color%22%3A%20%22%23f88053%22%2C%20%22fillColor%22%3A%20%22%23f88053%22%2C%20%22fillOpacity%22%3A%200.5%2C%20%22weight%22%3A%202%7D%3B%0A%20%20%20%20%20%20%20%20%20%20%20%20%20%20%20%20case%20%2224%22%3A%20%0A%20%20%20%20%20%20%20%20%20%20%20%20%20%20%20%20%20%20%20%20return%20%7B%22color%22%3A%20%22%23f88154%22%2C%20%22fillColor%22%3A%20%22%23f88154%22%2C%20%22fillOpacity%22%3A%200.5%2C%20%22weight%22%3A%202%7D%3B%0A%20%20%20%20%20%20%20%20%20%20%20%20%20%20%20%20case%20%2225%22%3A%20%0A%20%20%20%20%20%20%20%20%20%20%20%20%20%20%20%20%20%20%20%20return%20%7B%22color%22%3A%20%22%23f98455%22%2C%20%22fillColor%22%3A%20%22%23f98455%22%2C%20%22fillOpacity%22%3A%200.5%2C%20%22weight%22%3A%202%7D%3B%0A%20%20%20%20%20%20%20%20%20%20%20%20%20%20%20%20case%20%2227%22%3A%20%0A%20%20%20%20%20%20%20%20%20%20%20%20%20%20%20%20%20%20%20%20return%20%7B%22color%22%3A%20%22%23fa8757%22%2C%20%22fillColor%22%3A%20%22%23fa8757%22%2C%20%22fillOpacity%22%3A%200.5%2C%20%22weight%22%3A%202%7D%3B%0A%20%20%20%20%20%20%20%20%20%20%20%20%20%20%20%20case%20%2229%22%3A%20%0A%20%20%20%20%20%20%20%20%20%20%20%20%20%20%20%20%20%20%20%20return%20%7B%22color%22%3A%20%22%23fb8957%22%2C%20%22fillColor%22%3A%20%22%23fb8957%22%2C%20%22fillOpacity%22%3A%200.5%2C%20%22weight%22%3A%202%7D%3B%0A%20%20%20%20%20%20%20%20%20%20%20%20%20%20%20%20case%20%2230%22%3A%20%0A%20%20%20%20%20%20%20%20%20%20%20%20%20%20%20%20%20%20%20%20return%20%7B%22color%22%3A%20%22%23fb8a58%22%2C%20%22fillColor%22%3A%20%22%23fb8a58%22%2C%20%22fillOpacity%22%3A%200.5%2C%20%22weight%22%3A%202%7D%3B%0A%20%20%20%20%20%20%20%20%20%20%20%20%20%20%20%20case%20%2231%22%3A%20%0A%20%20%20%20%20%20%20%20%20%20%20%20%20%20%20%20%20%20%20%20return%20%7B%22color%22%3A%20%22%23fc8e5a%22%2C%20%22fillColor%22%3A%20%22%23fc8e5a%22%2C%20%22fillOpacity%22%3A%200.5%2C%20%22weight%22%3A%202%7D%3B%0A%20%20%20%20%20%20%20%20%20%20%20%20%20%20%20%20case%20%2232%22%3A%20%0A%20%20%20%20%20%20%20%20%20%20%20%20%20%20%20%20%20%20%20%20return%20%7B%22color%22%3A%20%22%23fc925e%22%2C%20%22fillColor%22%3A%20%22%23fc925e%22%2C%20%22fillOpacity%22%3A%200.5%2C%20%22weight%22%3A%202%7D%3B%0A%20%20%20%20%20%20%20%20%20%20%20%20%20%20%20%20case%20%2233%22%3A%20%0A%20%20%20%20%20%20%20%20%20%20%20%20%20%20%20%20%20%20%20%20return%20%7B%22color%22%3A%20%22%23fc935f%22%2C%20%22fillColor%22%3A%20%22%23fc935f%22%2C%20%22fillOpacity%22%3A%200.5%2C%20%22weight%22%3A%202%7D%3B%0A%20%20%20%20%20%20%20%20%20%20%20%20%20%20%20%20case%20%2234%22%3A%20%0A%20%20%20%20%20%20%20%20%20%20%20%20%20%20%20%20%20%20%20%20return%20%7B%22color%22%3A%20%22%23fc9662%22%2C%20%22fillColor%22%3A%20%22%23fc9662%22%2C%20%22fillOpacity%22%3A%200.5%2C%20%22weight%22%3A%202%7D%3B%0A%20%20%20%20%20%20%20%20%20%20%20%20%20%20%20%20case%20%2235%22%3A%20%0A%20%20%20%20%20%20%20%20%20%20%20%20%20%20%20%20%20%20%20%20return%20%7B%22color%22%3A%20%22%23fc9863%22%2C%20%22fillColor%22%3A%20%22%23fc9863%22%2C%20%22fillOpacity%22%3A%200.5%2C%20%22weight%22%3A%202%7D%3B%0A%20%20%20%20%20%20%20%20%20%20%20%20%20%20%20%20case%20%2236%22%3A%20%0A%20%20%20%20%20%20%20%20%20%20%20%20%20%20%20%20%20%20%20%20return%20%7B%22color%22%3A%20%22%23fc9f6a%22%2C%20%22fillColor%22%3A%20%22%23fc9f6a%22%2C%20%22fillOpacity%22%3A%200.5%2C%20%22weight%22%3A%202%7D%3B%0A%20%20%20%20%20%20%20%20%20%20%20%20%20%20%20%20case%20%2238%22%3A%20%0A%20%20%20%20%20%20%20%20%20%20%20%20%20%20%20%20%20%20%20%20return%20%7B%22color%22%3A%20%22%23fdac76%22%2C%20%22fillColor%22%3A%20%22%23fdac76%22%2C%20%22fillOpacity%22%3A%200.5%2C%20%22weight%22%3A%202%7D%3B%0A%20%20%20%20%20%20%20%20%20%20%20%20%20%20%20%20case%20%2239%22%3A%20%0A%20%20%20%20%20%20%20%20%20%20%20%20%20%20%20%20%20%20%20%20return%20%7B%22color%22%3A%20%22%23fdb982%22%2C%20%22fillColor%22%3A%20%22%23fdb982%22%2C%20%22fillOpacity%22%3A%200.5%2C%20%22weight%22%3A%202%7D%3B%0A%20%20%20%20%20%20%20%20%20%20%20%20%20%20%20%20case%20%2240%22%3A%20%0A%20%20%20%20%20%20%20%20%20%20%20%20%20%20%20%20%20%20%20%20return%20%7B%22color%22%3A%20%22%23fdbc85%22%2C%20%22fillColor%22%3A%20%22%23fdbc85%22%2C%20%22fillOpacity%22%3A%200.5%2C%20%22weight%22%3A%202%7D%3B%0A%20%20%20%20%20%20%20%20%20%20%20%20%20%20%20%20case%20%2241%22%3A%20case%20%2242%22%3A%20%0A%20%20%20%20%20%20%20%20%20%20%20%20%20%20%20%20%20%20%20%20return%20%7B%22color%22%3A%20%22%23fdbd86%22%2C%20%22fillColor%22%3A%20%22%23fdbd86%22%2C%20%22fillOpacity%22%3A%200.5%2C%20%22weight%22%3A%202%7D%3B%0A%20%20%20%20%20%20%20%20%20%20%20%20%20%20%20%20case%20%2243%22%3A%20%0A%20%20%20%20%20%20%20%20%20%20%20%20%20%20%20%20%20%20%20%20return%20%7B%22color%22%3A%20%22%23fdc089%22%2C%20%22fillColor%22%3A%20%22%23fdc089%22%2C%20%22fillOpacity%22%3A%200.5%2C%20%22weight%22%3A%202%7D%3B%0A%20%20%20%20%20%20%20%20%20%20%20%20%20%20%20%20case%20%2244%22%3A%20case%20%2245%22%3A%20%0A%20%20%20%20%20%20%20%20%20%20%20%20%20%20%20%20%20%20%20%20return%20%7B%22color%22%3A%20%22%23fdc28b%22%2C%20%22fillColor%22%3A%20%22%23fdc28b%22%2C%20%22fillOpacity%22%3A%200.5%2C%20%22weight%22%3A%202%7D%3B%0A%20%20%20%20%20%20%20%20%20%20%20%20%20%20%20%20case%20%2246%22%3A%20%0A%20%20%20%20%20%20%20%20%20%20%20%20%20%20%20%20%20%20%20%20return%20%7B%22color%22%3A%20%22%23fdc38c%22%2C%20%22fillColor%22%3A%20%22%23fdc38c%22%2C%20%22fillOpacity%22%3A%200.5%2C%20%22weight%22%3A%202%7D%3B%0A%20%20%20%20%20%20%20%20%20%20%20%20%20%20%20%20case%20%2247%22%3A%20case%20%2248%22%3A%20%0A%20%20%20%20%20%20%20%20%20%20%20%20%20%20%20%20%20%20%20%20return%20%7B%22color%22%3A%20%22%23fdc48d%22%2C%20%22fillColor%22%3A%20%22%23fdc48d%22%2C%20%22fillOpacity%22%3A%200.5%2C%20%22weight%22%3A%202%7D%3B%0A%20%20%20%20%20%20%20%20%20%20%20%20%20%20%20%20case%20%2249%22%3A%20%0A%20%20%20%20%20%20%20%20%20%20%20%20%20%20%20%20%20%20%20%20return%20%7B%22color%22%3A%20%22%23fdc58e%22%2C%20%22fillColor%22%3A%20%22%23fdc58e%22%2C%20%22fillOpacity%22%3A%200.5%2C%20%22weight%22%3A%202%7D%3B%0A%20%20%20%20%20%20%20%20%20%20%20%20%20%20%20%20case%20%2250%22%3A%20%0A%20%20%20%20%20%20%20%20%20%20%20%20%20%20%20%20%20%20%20%20return%20%7B%22color%22%3A%20%22%23fdc892%22%2C%20%22fillColor%22%3A%20%22%23fdc892%22%2C%20%22fillOpacity%22%3A%200.5%2C%20%22weight%22%3A%202%7D%3B%0A%20%20%20%20%20%20%20%20%20%20%20%20%20%20%20%20case%20%2251%22%3A%20case%20%2252%22%3A%20%0A%20%20%20%20%20%20%20%20%20%20%20%20%20%20%20%20%20%20%20%20return%20%7B%22color%22%3A%20%22%23fdca93%22%2C%20%22fillColor%22%3A%20%22%23fdca93%22%2C%20%22fillOpacity%22%3A%200.5%2C%20%22weight%22%3A%202%7D%3B%0A%20%20%20%20%20%20%20%20%20%20%20%20%20%20%20%20case%20%2253%22%3A%20%0A%20%20%20%20%20%20%20%20%20%20%20%20%20%20%20%20%20%20%20%20return%20%7B%22color%22%3A%20%22%23fdca94%22%2C%20%22fillColor%22%3A%20%22%23fdca94%22%2C%20%22fillOpacity%22%3A%200.5%2C%20%22weight%22%3A%202%7D%3B%0A%20%20%20%20%20%20%20%20%20%20%20%20%20%20%20%20case%20%2255%22%3A%20case%20%2256%22%3A%20case%20%2257%22%3A%20%0A%20%20%20%20%20%20%20%20%20%20%20%20%20%20%20%20%20%20%20%20return%20%7B%22color%22%3A%20%22%23fdcf99%22%2C%20%22fillColor%22%3A%20%22%23fdcf99%22%2C%20%22fillOpacity%22%3A%200.5%2C%20%22weight%22%3A%202%7D%3B%0A%20%20%20%20%20%20%20%20%20%20%20%20%20%20%20%20case%20%2258%22%3A%20%0A%20%20%20%20%20%20%20%20%20%20%20%20%20%20%20%20%20%20%20%20return%20%7B%22color%22%3A%20%22%23fdd19b%22%2C%20%22fillColor%22%3A%20%22%23fdd19b%22%2C%20%22fillOpacity%22%3A%200.5%2C%20%22weight%22%3A%202%7D%3B%0A%20%20%20%20%20%20%20%20%20%20%20%20%20%20%20%20case%20%2259%22%3A%20%0A%20%20%20%20%20%20%20%20%20%20%20%20%20%20%20%20%20%20%20%20return%20%7B%22color%22%3A%20%22%23fdd29c%22%2C%20%22fillColor%22%3A%20%22%23fdd29c%22%2C%20%22fillOpacity%22%3A%200.5%2C%20%22weight%22%3A%202%7D%3B%0A%20%20%20%20%20%20%20%20%20%20%20%20%20%20%20%20case%20%2260%22%3A%20%0A%20%20%20%20%20%20%20%20%20%20%20%20%20%20%20%20%20%20%20%20return%20%7B%22color%22%3A%20%22%23fdd39d%22%2C%20%22fillColor%22%3A%20%22%23fdd39d%22%2C%20%22fillOpacity%22%3A%200.5%2C%20%22weight%22%3A%202%7D%3B%0A%20%20%20%20%20%20%20%20%20%20%20%20%20%20%20%20case%20%2261%22%3A%20case%20%2262%22%3A%20case%20%2263%22%3A%20case%20%2264%22%3A%20%0A%20%20%20%20%20%20%20%20%20%20%20%20%20%20%20%20%20%20%20%20return%20%7B%22color%22%3A%20%22%23fdd49f%22%2C%20%22fillColor%22%3A%20%22%23fdd49f%22%2C%20%22fillOpacity%22%3A%200.5%2C%20%22weight%22%3A%202%7D%3B%0A%20%20%20%20%20%20%20%20%20%20%20%20%20%20%20%20case%20%2265%22%3A%20case%20%2266%22%3A%20%0A%20%20%20%20%20%20%20%20%20%20%20%20%20%20%20%20%20%20%20%20return%20%7B%22color%22%3A%20%22%23fdd5a0%22%2C%20%22fillColor%22%3A%20%22%23fdd5a0%22%2C%20%22fillOpacity%22%3A%200.5%2C%20%22weight%22%3A%202%7D%3B%0A%20%20%20%20%20%20%20%20%20%20%20%20%20%20%20%20case%20%2268%22%3A%20case%20%2269%22%3A%20%0A%20%20%20%20%20%20%20%20%20%20%20%20%20%20%20%20%20%20%20%20return%20%7B%22color%22%3A%20%22%23fdd7a4%22%2C%20%22fillColor%22%3A%20%22%23fdd7a4%22%2C%20%22fillOpacity%22%3A%200.5%2C%20%22weight%22%3A%202%7D%3B%0A%20%20%20%20%20%20%20%20%20%20%20%20%20%20%20%20case%20%2270%22%3A%20%0A%20%20%20%20%20%20%20%20%20%20%20%20%20%20%20%20%20%20%20%20return%20%7B%22color%22%3A%20%22%23fdd9a8%22%2C%20%22fillColor%22%3A%20%22%23fdd9a8%22%2C%20%22fillOpacity%22%3A%200.5%2C%20%22weight%22%3A%202%7D%3B%0A%20%20%20%20%20%20%20%20%20%20%20%20%20%20%20%20case%20%2271%22%3A%20%0A%20%20%20%20%20%20%20%20%20%20%20%20%20%20%20%20%20%20%20%20return%20%7B%22color%22%3A%20%22%23fdd9aa%22%2C%20%22fillColor%22%3A%20%22%23fdd9aa%22%2C%20%22fillOpacity%22%3A%200.5%2C%20%22weight%22%3A%202%7D%3B%0A%20%20%20%20%20%20%20%20%20%20%20%20%20%20%20%20case%20%2274%22%3A%20%0A%20%20%20%20%20%20%20%20%20%20%20%20%20%20%20%20%20%20%20%20return%20%7B%22color%22%3A%20%22%23fddbad%22%2C%20%22fillColor%22%3A%20%22%23fddbad%22%2C%20%22fillOpacity%22%3A%200.5%2C%20%22weight%22%3A%202%7D%3B%0A%20%20%20%20%20%20%20%20%20%20%20%20%20%20%20%20case%20%2275%22%3A%20%0A%20%20%20%20%20%20%20%20%20%20%20%20%20%20%20%20%20%20%20%20return%20%7B%22color%22%3A%20%22%23fdddb0%22%2C%20%22fillColor%22%3A%20%22%23fdddb0%22%2C%20%22fillOpacity%22%3A%200.5%2C%20%22weight%22%3A%202%7D%3B%0A%20%20%20%20%20%20%20%20%20%20%20%20%20%20%20%20case%20%2277%22%3A%20case%20%2278%22%3A%20%0A%20%20%20%20%20%20%20%20%20%20%20%20%20%20%20%20%20%20%20%20return%20%7B%22color%22%3A%20%22%23fddeb3%22%2C%20%22fillColor%22%3A%20%22%23fddeb3%22%2C%20%22fillOpacity%22%3A%200.5%2C%20%22weight%22%3A%202%7D%3B%0A%20%20%20%20%20%20%20%20%20%20%20%20%20%20%20%20case%20%2281%22%3A%20%0A%20%20%20%20%20%20%20%20%20%20%20%20%20%20%20%20%20%20%20%20return%20%7B%22color%22%3A%20%22%23fee0b7%22%2C%20%22fillColor%22%3A%20%22%23fee0b7%22%2C%20%22fillOpacity%22%3A%200.5%2C%20%22weight%22%3A%202%7D%3B%0A%20%20%20%20%20%20%20%20%20%20%20%20%20%20%20%20case%20%2282%22%3A%20%0A%20%20%20%20%20%20%20%20%20%20%20%20%20%20%20%20%20%20%20%20return%20%7B%22color%22%3A%20%22%23fee1b9%22%2C%20%22fillColor%22%3A%20%22%23fee1b9%22%2C%20%22fillOpacity%22%3A%200.5%2C%20%22weight%22%3A%202%7D%3B%0A%20%20%20%20%20%20%20%20%20%20%20%20%20%20%20%20case%20%2283%22%3A%20%0A%20%20%20%20%20%20%20%20%20%20%20%20%20%20%20%20%20%20%20%20return%20%7B%22color%22%3A%20%22%23fee2bc%22%2C%20%22fillColor%22%3A%20%22%23fee2bc%22%2C%20%22fillOpacity%22%3A%200.5%2C%20%22weight%22%3A%202%7D%3B%0A%20%20%20%20%20%20%20%20%20%20%20%20%20%20%20%20case%20%2284%22%3A%20%0A%20%20%20%20%20%20%20%20%20%20%20%20%20%20%20%20%20%20%20%20return%20%7B%22color%22%3A%20%22%23fee5c3%22%2C%20%22fillColor%22%3A%20%22%23fee5c3%22%2C%20%22fillOpacity%22%3A%200.5%2C%20%22weight%22%3A%202%7D%3B%0A%20%20%20%20%20%20%20%20%20%20%20%20%20%20%20%20case%20%2285%22%3A%20%0A%20%20%20%20%20%20%20%20%20%20%20%20%20%20%20%20%20%20%20%20return%20%7B%22color%22%3A%20%22%23fee7c7%22%2C%20%22fillColor%22%3A%20%22%23fee7c7%22%2C%20%22fillOpacity%22%3A%200.5%2C%20%22weight%22%3A%202%7D%3B%0A%20%20%20%20%20%20%20%20%20%20%20%20%20%20%20%20case%20%2293%22%3A%20case%20%2294%22%3A%20case%20%2295%22%3A%20%0A%20%20%20%20%20%20%20%20%20%20%20%20%20%20%20%20%20%20%20%20return%20%7B%22color%22%3A%20%22%23feecd1%22%2C%20%22fillColor%22%3A%20%22%23feecd1%22%2C%20%22fillOpacity%22%3A%200.5%2C%20%22weight%22%3A%202%7D%3B%0A%20%20%20%20%20%20%20%20%20%20%20%20%20%20%20%20case%20%2296%22%3A%20case%20%2297%22%3A%20%0A%20%20%20%20%20%20%20%20%20%20%20%20%20%20%20%20%20%20%20%20return%20%7B%22color%22%3A%20%22%23feedd4%22%2C%20%22fillColor%22%3A%20%22%23feedd4%22%2C%20%22fillOpacity%22%3A%200.5%2C%20%22weight%22%3A%202%7D%3B%0A%20%20%20%20%20%20%20%20%20%20%20%20%20%20%20%20case%20%2298%22%3A%20%0A%20%20%20%20%20%20%20%20%20%20%20%20%20%20%20%20%20%20%20%20return%20%7B%22color%22%3A%20%22%23fff2e0%22%2C%20%22fillColor%22%3A%20%22%23fff2e0%22%2C%20%22fillOpacity%22%3A%200.5%2C%20%22weight%22%3A%202%7D%3B%0A%20%20%20%20%20%20%20%20%20%20%20%20%20%20%20%20case%20%2299%22%3A%20%0A%20%20%20%20%20%20%20%20%20%20%20%20%20%20%20%20%20%20%20%20return%20%7B%22color%22%3A%20%22%23fff3e2%22%2C%20%22fillColor%22%3A%20%22%23fff3e2%22%2C%20%22fillOpacity%22%3A%200.5%2C%20%22weight%22%3A%202%7D%3B%0A%20%20%20%20%20%20%20%20%20%20%20%20%20%20%20%20case%20%22100%22%3A%20%0A%20%20%20%20%20%20%20%20%20%20%20%20%20%20%20%20%20%20%20%20return%20%7B%22color%22%3A%20%22%23fff7ec%22%2C%20%22fillColor%22%3A%20%22%23fff7ec%22%2C%20%22fillOpacity%22%3A%200.5%2C%20%22weight%22%3A%202%7D%3B%0A%20%20%20%20%20%20%20%20%20%20%20%20%20%20%20%20default%3A%0A%20%20%20%20%20%20%20%20%20%20%20%20%20%20%20%20%20%20%20%20return%20%7B%22color%22%3A%20%22%23feebcf%22%2C%20%22fillColor%22%3A%20%22%23feebcf%22%2C%20%22fillOpacity%22%3A%200.5%2C%20%22weight%22%3A%202%7D%3B%0A%20%20%20%20%20%20%20%20%20%20%20%20%7D%0A%20%20%20%20%20%20%20%20%7D%0A%20%20%20%20%20%20%20%20function%20geo_json_5a0e06d2c6d14ddf8ee7ae478e4b7d57_highlighter%28feature%29%20%7B%0A%20%20%20%20%20%20%20%20%20%20%20%20switch%28feature.id%29%20%7B%0A%20%20%20%20%20%20%20%20%20%20%20%20%20%20%20%20default%3A%0A%20%20%20%20%20%20%20%20%20%20%20%20%20%20%20%20%20%20%20%20return%20%7B%22fillOpacity%22%3A%200.75%7D%3B%0A%20%20%20%20%20%20%20%20%20%20%20%20%7D%0A%20%20%20%20%20%20%20%20%7D%0A%20%20%20%20%20%20%20%20function%20geo_json_5a0e06d2c6d14ddf8ee7ae478e4b7d57_pointToLayer%28feature%2C%20latlng%29%20%7B%0A%20%20%20%20%20%20%20%20%20%20%20%20var%20opts%20%3D%20%7B%22bubblingMouseEvents%22%3A%20true%2C%20%22color%22%3A%20%22%233388ff%22%2C%20%22dashArray%22%3A%20null%2C%20%22dashOffset%22%3A%20null%2C%20%22fill%22%3A%20true%2C%20%22fillColor%22%3A%20%22%233388ff%22%2C%20%22fillOpacity%22%3A%200.2%2C%20%22fillRule%22%3A%20%22evenodd%22%2C%20%22lineCap%22%3A%20%22round%22%2C%20%22lineJoin%22%3A%20%22round%22%2C%20%22opacity%22%3A%201.0%2C%20%22radius%22%3A%205%2C%20%22stroke%22%3A%20true%2C%20%22weight%22%3A%203%7D%3B%0A%20%20%20%20%20%20%20%20%20%20%20%20%0A%20%20%20%20%20%20%20%20%20%20%20%20let%20style%20%3D%20geo_json_5a0e06d2c6d14ddf8ee7ae478e4b7d57_styler%28feature%29%0A%20%20%20%20%20%20%20%20%20%20%20%20Object.assign%28opts%2C%20style%29%0A%20%20%20%20%20%20%20%20%20%20%20%20%0A%20%20%20%20%20%20%20%20%20%20%20%20return%20new%20L.CircleMarker%28latlng%2C%20opts%29%0A%20%20%20%20%20%20%20%20%7D%0A%0A%20%20%20%20%20%20%20%20function%20geo_json_5a0e06d2c6d14ddf8ee7ae478e4b7d57_onEachFeature%28feature%2C%20layer%29%20%7B%0A%20%20%20%20%20%20%20%20%20%20%20%20layer.on%28%7B%0A%20%20%20%20%20%20%20%20%20%20%20%20%20%20%20%20mouseout%3A%20function%28e%29%20%7B%0A%20%20%20%20%20%20%20%20%20%20%20%20%20%20%20%20%20%20%20%20if%28typeof%20e.target.setStyle%20%3D%3D%3D%20%22function%22%29%7B%0A%20%20%20%20%20%20%20%20%20%20%20%20%20%20%20%20%20%20%20%20%20%20%20%20geo_json_5a0e06d2c6d14ddf8ee7ae478e4b7d57.resetStyle%28e.target%29%3B%0A%20%20%20%20%20%20%20%20%20%20%20%20%20%20%20%20%20%20%20%20%7D%0A%20%20%20%20%20%20%20%20%20%20%20%20%20%20%20%20%7D%2C%0A%20%20%20%20%20%20%20%20%20%20%20%20%20%20%20%20mouseover%3A%20function%28e%29%20%7B%0A%20%20%20%20%20%20%20%20%20%20%20%20%20%20%20%20%20%20%20%20if%28typeof%20e.target.setStyle%20%3D%3D%3D%20%22function%22%29%7B%0A%20%20%20%20%20%20%20%20%20%20%20%20%20%20%20%20%20%20%20%20%20%20%20%20const%20highlightStyle%20%3D%20geo_json_5a0e06d2c6d14ddf8ee7ae478e4b7d57_highlighter%28e.target.feature%29%0A%20%20%20%20%20%20%20%20%20%20%20%20%20%20%20%20%20%20%20%20%20%20%20%20e.target.setStyle%28highlightStyle%29%3B%0A%20%20%20%20%20%20%20%20%20%20%20%20%20%20%20%20%20%20%20%20%7D%0A%20%20%20%20%20%20%20%20%20%20%20%20%20%20%20%20%7D%2C%0A%20%20%20%20%20%20%20%20%20%20%20%20%7D%29%3B%0A%20%20%20%20%20%20%20%20%7D%3B%0A%20%20%20%20%20%20%20%20var%20geo_json_5a0e06d2c6d14ddf8ee7ae478e4b7d57%20%3D%20L.geoJson%28null%2C%20%7B%0A%20%20%20%20%20%20%20%20%20%20%20%20%20%20%20%20onEachFeature%3A%20geo_json_5a0e06d2c6d14ddf8ee7ae478e4b7d57_onEachFeature%2C%0A%20%20%20%20%20%20%20%20%20%20%20%20%0A%20%20%20%20%20%20%20%20%20%20%20%20%20%20%20%20style%3A%20geo_json_5a0e06d2c6d14ddf8ee7ae478e4b7d57_styler%2C%0A%20%20%20%20%20%20%20%20%20%20%20%20%20%20%20%20pointToLayer%3A%20geo_json_5a0e06d2c6d14ddf8ee7ae478e4b7d57_pointToLayer%0A%20%20%20%20%20%20%20%20%7D%29%3B%0A%0A%20%20%20%20%20%20%20%20function%20geo_json_5a0e06d2c6d14ddf8ee7ae478e4b7d57_add%20%28data%29%20%7B%0A%20%20%20%20%20%20%20%20%20%20%20%20geo_json_5a0e06d2c6d14ddf8ee7ae478e4b7d57%0A%20%20%20%20%20%20%20%20%20%20%20%20%20%20%20%20.addData%28data%29%0A%20%20%20%20%20%20%20%20%20%20%20%20%20%20%20%20.addTo%28map_a6d9577232164bd6b94487cd9ae06d11%29%3B%0A%20%20%20%20%20%20%20%20%7D%0A%20%20%20%20%20%20%20%20%20%20%20%20geo_json_5a0e06d2c6d14ddf8ee7ae478e4b7d57_add%28%7B%22bbox%22%3A%20%5B-0.0716477%2C%2051.4207803%2C%200.0274904%2C%2051.4881048%5D%2C%20%22features%22%3A%20%5B%7B%22bbox%22%3A%20%5B-0.0063042%2C%2051.4450737%2C%20-0.0063042%2C%2051.4450737%5D%2C%20%22geometry%22%3A%20%7B%22coordinates%22%3A%20%5B-0.0063042%2C%2051.4450737%5D%2C%20%22type%22%3A%20%22Point%22%7D%2C%20%22id%22%3A%20%220%22%2C%20%22properties%22%3A%20%7B%22Location%22%3A%20%22290%20Brownhill%20Rd%2C%20London%2C%20SE6%201AU%22%2C%20%22Result%22%3A%2034.0%2C%20%22__folium_color%22%3A%20%22%237f0000%22%7D%2C%20%22type%22%3A%20%22Feature%22%7D%2C%20%7B%22bbox%22%3A%20%5B0.0212846%2C%2051.4323526%2C%200.0212846%2C%2051.4323526%5D%2C%20%22geometry%22%3A%20%7B%22coordinates%22%3A%20%5B0.0212846%2C%2051.4323526%5D%2C%20%22type%22%3A%20%22Point%22%7D%2C%20%22id%22%3A%20%221%22%2C%20%22properties%22%3A%20%7B%22Location%22%3A%20%22baring%20road%2C%20london%2C%20se12%22%2C%20%22Result%22%3A%2033.4%2C%20%22__folium_color%22%3A%20%22%238c0000%22%7D%2C%20%22type%22%3A%20%22Feature%22%7D%2C%20%7B%22bbox%22%3A%20%5B-0.0374595%2C%2051.4307475%2C%20-0.0374595%2C%2051.4307475%5D%2C%20%22geometry%22%3A%20%7B%22coordinates%22%3A%20%5B-0.0374595%2C%2051.4307475%5D%2C%20%22type%22%3A%20%22Point%22%7D%2C%20%22id%22%3A%20%222%22%2C%20%22properties%22%3A%20%7B%22Location%22%3A%20%22Bell%20Green%2C%20London%2C%20%22%2C%20%22Result%22%3A%2032.5%2C%20%22__folium_color%22%3A%20%22%23a10000%22%7D%2C%20%22type%22%3A%20%22Feature%22%7D%2C%20%7B%22bbox%22%3A%20%5B0.0086121%2C%2051.4663843%2C%200.0086121%2C%2051.4663843%5D%2C%20%22geometry%22%3A%20%7B%22coordinates%22%3A%20%5B0.0086121%2C%2051.4663843%5D%2C%20%22type%22%3A%20%22Point%22%7D%2C%20%22id%22%3A%20%223%22%2C%20%22properties%22%3A%20%7B%22Location%22%3A%20%22montpelier%20vale%2C%20blackheath%2C%20london%22%2C%20%22Result%22%3A%2031.2%2C%20%22__folium_color%22%3A%20%22%23bb0b07%22%7D%2C%20%22type%22%3A%20%22Feature%22%7D%2C%20%7B%22bbox%22%3A%20%5B-0.0394468%2C%2051.4751094%2C%20-0.0394468%2C%2051.4751094%5D%2C%20%22geometry%22%3A%20%7B%22coordinates%22%3A%20%5B-0.0394468%2C%2051.4751094%5D%2C%20%22type%22%3A%20%22Point%22%7D%2C%20%22id%22%3A%20%224%22%2C%20%22properties%22%3A%20%7B%22Location%22%3A%20%22New%20Cross%20Rd%2C%20London%2C%20SE14%206AR%22%2C%20%22Result%22%3A%2030.1%2C%20%22__folium_color%22%3A%20%22%23cd2316%22%7D%2C%20%22type%22%3A%20%22Feature%22%7D%2C%20%7B%22bbox%22%3A%20%5B-0.0424015%2C%2051.4467081%2C%20-0.0424015%2C%2051.4467081%5D%2C%20%22geometry%22%3A%20%7B%22coordinates%22%3A%20%5B-0.0424015%2C%2051.4467081%5D%2C%20%22type%22%3A%20%22Point%22%7D%2C%20%22id%22%3A%20%225%22%2C%20%22properties%22%3A%20%7B%22Location%22%3A%20%22Brockley%20Rise%2C%20London%2C%20%22%2C%20%22Result%22%3A%2030.1%2C%20%22__folium_color%22%3A%20%22%23cd2316%22%7D%2C%20%22type%22%3A%20%22Feature%22%7D%2C%20%7B%22bbox%22%3A%20%5B-0.0261939%2C%2051.4438164%2C%20-0.0261939%2C%2051.4438164%5D%2C%20%22geometry%22%3A%20%7B%22coordinates%22%3A%20%5B-0.0261939%2C%2051.4438164%5D%2C%20%22type%22%3A%20%22Point%22%7D%2C%20%22id%22%3A%20%226%22%2C%20%22properties%22%3A%20%7B%22Location%22%3A%20%22catford%20hill%2C%20se6%204pw%22%2C%20%22Result%22%3A%2029.9%2C%20%22__folium_color%22%3A%20%22%23cf2618%22%7D%2C%20%22type%22%3A%20%22Feature%22%7D%2C%20%7B%22bbox%22%3A%20%5B-0.0372376%2C%2051.4285431%2C%20-0.0372376%2C%2051.4285431%5D%2C%20%22geometry%22%3A%20%7B%22coordinates%22%3A%20%5B-0.0372376%2C%2051.4285431%5D%2C%20%22type%22%3A%20%22Point%22%7D%2C%20%22id%22%3A%20%227%22%2C%20%22properties%22%3A%20%7B%22Location%22%3A%20%225%20Stanton%20Way%2C%20London%2C%20SE26%205AD%22%2C%20%22Result%22%3A%2029.9%2C%20%22__folium_color%22%3A%20%22%23cf2618%22%7D%2C%20%22type%22%3A%20%22Feature%22%7D%2C%20%7B%22bbox%22%3A%20%5B-0.0360808%2C%2051.465657%2C%20-0.0360808%2C%2051.465657%5D%2C%20%22geometry%22%3A%20%7B%22coordinates%22%3A%20%5B-0.0360808%2C%2051.465657%5D%2C%20%22type%22%3A%20%22Point%22%7D%2C%20%22id%22%3A%20%228%22%2C%20%22properties%22%3A%20%7B%22Location%22%3A%20%22shardeloes%20road%20london%20%22%2C%20%22Result%22%3A%2029.8%2C%20%22__folium_color%22%3A%20%22%23d2291a%22%7D%2C%20%22type%22%3A%20%22Feature%22%7D%2C%20%7B%22bbox%22%3A%20%5B-0.0166727%2C%2051.4647213%2C%20-0.0166727%2C%2051.4647213%5D%2C%20%22geometry%22%3A%20%7B%22coordinates%22%3A%20%5B-0.0166727%2C%2051.4647213%5D%2C%20%22type%22%3A%20%22Point%22%7D%2C%20%22id%22%3A%20%229%22%2C%20%22properties%22%3A%20%7B%22Location%22%3A%20%22Loampit%20Vale%2C%20London%22%2C%20%22Result%22%3A%2029.5%2C%20%22__folium_color%22%3A%20%22%23d62f1e%22%7D%2C%20%22type%22%3A%20%22Feature%22%7D%2C%20%7B%22bbox%22%3A%20%5B-0.0352505%2C%2051.4346992%2C%20-0.0352505%2C%2051.4346992%5D%2C%20%22geometry%22%3A%20%7B%22coordinates%22%3A%20%5B-0.0352505%2C%2051.4346992%5D%2C%20%22type%22%3A%20%22Point%22%7D%2C%20%22id%22%3A%20%2210%22%2C%20%22properties%22%3A%20%7B%22Location%22%3A%20%22147%20Perry%20Hill%2C%20London%2C%20SE6%204LP%22%2C%20%22Result%22%3A%2029.5%2C%20%22__folium_color%22%3A%20%22%23d62f1e%22%7D%2C%20%22type%22%3A%20%22Feature%22%7D%2C%20%7B%22bbox%22%3A%20%5B-0.0100847%2C%2051.4626592%2C%20-0.0100847%2C%2051.4626592%5D%2C%20%22geometry%22%3A%20%7B%22coordinates%22%3A%20%5B-0.0100847%2C%2051.4626592%5D%2C%20%22type%22%3A%20%22Point%22%7D%2C%20%22id%22%3A%20%2211%22%2C%20%22properties%22%3A%20%7B%22Location%22%3A%20%22329%20Lewisham%20High%20St%2C%20London%2C%20SE13%206NX%22%2C%20%22Result%22%3A%2028.2%2C%20%22__folium_color%22%3A%20%22%23e54e36%22%7D%2C%20%22type%22%3A%20%22Feature%22%7D%2C%20%7B%22bbox%22%3A%20%5B-0.0394468%2C%2051.4751094%2C%20-0.0394468%2C%2051.4751094%5D%2C%20%22geometry%22%3A%20%7B%22coordinates%22%3A%20%5B-0.0394468%2C%2051.4751094%5D%2C%20%22type%22%3A%20%22Point%22%7D%2C%20%22id%22%3A%20%2212%22%2C%20%22properties%22%3A%20%7B%22Location%22%3A%20%22New%20Cross%20Rd%2C%20London%2C%20SE14%206AR%22%2C%20%22Result%22%3A%2028.1%2C%20%22__folium_color%22%3A%20%22%23e55038%22%7D%2C%20%22type%22%3A%20%22Feature%22%7D%2C%20%7B%22bbox%22%3A%20%5B-0.0435859%2C%2051.4660143%2C%20-0.0435859%2C%2051.4660143%5D%2C%20%22geometry%22%3A%20%7B%22coordinates%22%3A%20%5B-0.0435859%2C%2051.4660143%5D%2C%20%22type%22%3A%20%22Point%22%7D%2C%20%22id%22%3A%20%2213%22%2C%20%22properties%22%3A%20%7B%22Location%22%3A%20%22110%20Drakefell%20Rd%2C%20London%20SE14%205SQ%22%2C%20%22Result%22%3A%2028.0%2C%20%22__folium_color%22%3A%20%22%23e65239%22%7D%2C%20%22type%22%3A%20%22Feature%22%7D%2C%20%7B%22bbox%22%3A%20%5B-0.0394468%2C%2051.4751094%2C%20-0.0394468%2C%2051.4751094%5D%2C%20%22geometry%22%3A%20%7B%22coordinates%22%3A%20%5B-0.0394468%2C%2051.4751094%5D%2C%20%22type%22%3A%20%22Point%22%7D%2C%20%22id%22%3A%20%2214%22%2C%20%22properties%22%3A%20%7B%22Location%22%3A%20%22New%20Cross%20Rd%2C%20London%2C%20SE14%206AR%22%2C%20%22Result%22%3A%2027.7%2C%20%22__folium_color%22%3A%20%22%23ea5a3f%22%7D%2C%20%22type%22%3A%20%22Feature%22%7D%2C%20%7B%22bbox%22%3A%20%5B-0.0098491%2C%2051.4559044%2C%20-0.0098491%2C%2051.4559044%5D%2C%20%22geometry%22%3A%20%7B%22coordinates%22%3A%20%5B-0.0098491%2C%2051.4559044%5D%2C%20%22type%22%3A%20%22Point%22%7D%2C%20%22id%22%3A%20%2215%22%2C%20%22properties%22%3A%20%7B%22Location%22%3A%20%2294%20Hither%20Green%20Lane%2C%20London%2C%20SE13%206PS%22%2C%20%22Result%22%3A%2027.5%2C%20%22__folium_color%22%3A%20%22%23ec5d42%22%7D%2C%20%22type%22%3A%20%22Feature%22%7D%2C%20%7B%22bbox%22%3A%20%5B-0.0026178%2C%2051.4309257%2C%20-0.0026178%2C%2051.4309257%5D%2C%20%22geometry%22%3A%20%7B%22coordinates%22%3A%20%5B-0.0026178%2C%2051.4309257%5D%2C%20%22type%22%3A%20%22Point%22%7D%2C%20%22id%22%3A%20%2216%22%2C%20%22properties%22%3A%20%7B%22Location%22%3A%20%2241%20Whitefoot%20Ln%2C%20%20BR1%205SA%22%2C%20%22Result%22%3A%2027.3%2C%20%22__folium_color%22%3A%20%22%23ee6246%22%7D%2C%20%22type%22%3A%20%22Feature%22%7D%2C%20%7B%22bbox%22%3A%20%5B0.0126343%2C%2051.4500873%2C%200.0126343%2C%2051.4500873%5D%2C%20%22geometry%22%3A%20%7B%22coordinates%22%3A%20%5B0.0126343%2C%2051.4500873%5D%2C%20%22type%22%3A%20%22Point%22%7D%2C%20%22id%22%3A%20%2218%22%2C%20%22properties%22%3A%20%7B%22Location%22%3A%20%224%20Burnt%20Ash%20Rd%2C%20London%2C%20SE12%208PZ%22%2C%20%22Result%22%3A%2026.4%2C%20%22__folium_color%22%3A%20%22%23f4734e%22%7D%2C%20%22type%22%3A%20%22Feature%22%7D%2C%20%7B%22bbox%22%3A%20%5B-0.0371579%2C%2051.4881048%2C%20-0.0371579%2C%2051.4881048%5D%2C%20%22geometry%22%3A%20%7B%22coordinates%22%3A%20%5B-0.0371579%2C%2051.4881048%5D%2C%20%22type%22%3A%20%22Point%22%7D%2C%20%22id%22%3A%20%2219%22%2C%20%22properties%22%3A%20%7B%22Location%22%3A%20%22Deptford%20Park%20School%2C%20London%2C%20SE8%205RJ%22%2C%20%22Result%22%3A%2026.3%2C%20%22__folium_color%22%3A%20%22%23f4754f%22%7D%2C%20%22type%22%3A%20%22Feature%22%7D%2C%20%7B%22bbox%22%3A%20%5B0.0034117%2C%2051.446004%2C%200.0034117%2C%2051.446004%5D%2C%20%22geometry%22%3A%20%7B%22coordinates%22%3A%20%5B0.0034117%2C%2051.446004%5D%2C%20%22type%22%3A%20%22Point%22%7D%2C%20%22id%22%3A%20%2220%22%2C%20%22properties%22%3A%20%7B%22Location%22%3A%20%22389%20Hither%20Green%20Ln%2C%20London%2C%20SE13%206TR%22%2C%20%22Result%22%3A%2026.3%2C%20%22__folium_color%22%3A%20%22%23f4754f%22%7D%2C%20%22type%22%3A%20%22Feature%22%7D%2C%20%7B%22bbox%22%3A%20%5B-0.038253502084189914%2C%2051.4764791%2C%20-0.038253502084189914%2C%2051.4764791%5D%2C%20%22geometry%22%3A%20%7B%22coordinates%22%3A%20%5B-0.038253502084189914%2C%2051.4764791%5D%2C%20%22type%22%3A%20%22Point%22%7D%2C%20%22id%22%3A%20%2221%22%2C%20%22properties%22%3A%20%7B%22Location%22%3A%20%22Childeric%20Primary%20School%2C%20London%2C%20SE14%206DG%22%2C%20%22Result%22%3A%2026.1%2C%20%22__folium_color%22%3A%20%22%23f57850%22%7D%2C%20%22type%22%3A%20%22Feature%22%7D%2C%20%7B%22bbox%22%3A%20%5B-0.04188686193489054%2C%2051.48546135%2C%20-0.04188686193489054%2C%2051.48546135%5D%2C%20%22geometry%22%3A%20%7B%22coordinates%22%3A%20%5B-0.04188686193489054%2C%2051.48546135%5D%2C%20%22type%22%3A%20%22Point%22%7D%2C%20%22id%22%3A%20%2222%22%2C%20%22properties%22%3A%20%7B%22Location%22%3A%20%22Sir%20Francis%20Drake%20Primary%20School%2C%20London%2C%20SE8%205AE%22%2C%20%22Result%22%3A%2026.1%2C%20%22__folium_color%22%3A%20%22%23f57850%22%7D%2C%20%22type%22%3A%20%22Feature%22%7D%2C%20%7B%22bbox%22%3A%20%5B-0.0168874%2C%2051.4566626%2C%20-0.0168874%2C%2051.4566626%5D%2C%20%22geometry%22%3A%20%7B%22coordinates%22%3A%20%5B-0.0168874%2C%2051.4566626%5D%2C%20%22type%22%3A%20%22Point%22%7D%2C%20%22id%22%3A%20%2223%22%2C%20%22properties%22%3A%20%7B%22Location%22%3A%20%22Ladywell%20Road%2C%20London%22%2C%20%22Result%22%3A%2025.7%2C%20%22__folium_color%22%3A%20%22%23f88053%22%7D%2C%20%22type%22%3A%20%22Feature%22%7D%2C%20%7B%22bbox%22%3A%20%5B-0.0435922%2C%2051.4758404%2C%20-0.0435922%2C%2051.4758404%5D%2C%20%22geometry%22%3A%20%7B%22coordinates%22%3A%20%5B-0.0435922%2C%2051.4758404%5D%2C%20%22type%22%3A%20%22Point%22%7D%2C%20%22id%22%3A%20%2224%22%2C%20%22properties%22%3A%20%7B%22Location%22%3A%20%22Hatcham%20Park%20Rd%2C%20Lewisham%22%2C%20%22Result%22%3A%2025.6%2C%20%22__folium_color%22%3A%20%22%23f88154%22%7D%2C%20%22type%22%3A%20%22Feature%22%7D%2C%20%7B%22bbox%22%3A%20%5B-0.0003494%2C%2051.4604181%2C%20-0.0003494%2C%2051.4604181%5D%2C%20%22geometry%22%3A%20%7B%22coordinates%22%3A%20%5B-0.0003494%2C%2051.4604181%5D%2C%20%22type%22%3A%20%22Point%22%7D%2C%20%22id%22%3A%20%2225%22%2C%20%22properties%22%3A%20%7B%22Location%22%3A%20%221%20Belmont%20Park%2C%20London%2C%20SE13%205BJ%22%2C%20%22Result%22%3A%2025.5%2C%20%22__folium_color%22%3A%20%22%23f98455%22%7D%2C%20%22type%22%3A%20%22Feature%22%7D%2C%20%7B%22bbox%22%3A%20%5B-0.0391521299925609%2C%2051.46424815%2C%20-0.0391521299925609%2C%2051.46424815%5D%2C%20%22geometry%22%3A%20%7B%22coordinates%22%3A%20%5B-0.0391521299925609%2C%2051.46424815%5D%2C%20%22type%22%3A%20%22Point%22%7D%2C%20%22id%22%3A%20%2227%22%2C%20%22properties%22%3A%20%7B%22Location%22%3A%20%22John%20Stainer%20Primary%20School%2C%20London%2C%20SE4%202DY%22%2C%20%22Result%22%3A%2025.3%2C%20%22__folium_color%22%3A%20%22%23fa8757%22%7D%2C%20%22type%22%3A%20%22Feature%22%7D%2C%20%7B%22bbox%22%3A%20%5B0.0066733%2C%2051.4252799%2C%200.0066733%2C%2051.4252799%5D%2C%20%22geometry%22%3A%20%7B%22coordinates%22%3A%20%5B0.0066733%2C%2051.4252799%5D%2C%20%22type%22%3A%20%22Point%22%7D%2C%20%22id%22%3A%20%2229%22%2C%20%22properties%22%3A%20%7B%22Location%22%3A%20%22398%20Downham%20Way%2C%20%2C%20BR1%205HR%22%2C%20%22Result%22%3A%2025.2%2C%20%22__folium_color%22%3A%20%22%23fb8957%22%7D%2C%20%22type%22%3A%20%22Feature%22%7D%2C%20%7B%22bbox%22%3A%20%5B-0.0466027%2C%2051.4295749%2C%20-0.0466027%2C%2051.4295749%5D%2C%20%22geometry%22%3A%20%7B%22coordinates%22%3A%20%5B-0.0466027%2C%2051.4295749%5D%2C%20%22type%22%3A%20%22Point%22%7D%2C%20%22id%22%3A%20%2230%22%2C%20%22properties%22%3A%20%7B%22Location%22%3A%20%2222%20Mayow%20Rd%2C%20London%2C%20SE23%202XQ%22%2C%20%22Result%22%3A%2025.1%2C%20%22__folium_color%22%3A%20%22%23fb8a58%22%7D%2C%20%22type%22%3A%20%22Feature%22%7D%2C%20%7B%22bbox%22%3A%20%5B0.0126343%2C%2051.4500873%2C%200.0126343%2C%2051.4500873%5D%2C%20%22geometry%22%3A%20%7B%22coordinates%22%3A%20%5B0.0126343%2C%2051.4500873%5D%2C%20%22type%22%3A%20%22Point%22%7D%2C%20%22id%22%3A%20%2231%22%2C%20%22properties%22%3A%20%7B%22Location%22%3A%20%2240B%20Burnt%20Ash%20Rd%2C%20London%2C%20SE12%208PZ%22%2C%20%22Result%22%3A%2024.9%2C%20%22__folium_color%22%3A%20%22%23fc8e5a%22%7D%2C%20%22type%22%3A%20%22Feature%22%7D%2C%20%7B%22bbox%22%3A%20%5B-0.0146036%2C%2051.4577983%2C%20-0.0146036%2C%2051.4577983%5D%2C%20%22geometry%22%3A%20%7B%22coordinates%22%3A%20%5B-0.0146036%2C%2051.4577983%5D%2C%20%22type%22%3A%20%22Point%22%7D%2C%20%22id%22%3A%20%2232%22%2C%20%22properties%22%3A%20%7B%22Location%22%3A%20%22Whitburn%20Road%20London%22%2C%20%22Result%22%3A%2024.7%2C%20%22__folium_color%22%3A%20%22%23fc925e%22%7D%2C%20%22type%22%3A%20%22Feature%22%7D%2C%20%7B%22bbox%22%3A%20%5B0.010838550891653349%2C%2051.469389699999994%2C%200.010838550891653349%2C%2051.469389699999994%5D%2C%20%22geometry%22%3A%20%7B%22coordinates%22%3A%20%5B0.010838550891653349%2C%2051.469389699999994%5D%2C%20%22type%22%3A%20%22Point%22%7D%2C%20%22id%22%3A%20%2233%22%2C%20%22properties%22%3A%20%7B%22Location%22%3A%20%2241%20South%20Row%2C%20Blackheath%2C%20London%20SE3%200RX%22%2C%20%22Result%22%3A%2024.6%2C%20%22__folium_color%22%3A%20%22%23fc935f%22%7D%2C%20%22type%22%3A%20%22Feature%22%7D%2C%20%7B%22bbox%22%3A%20%5B-0.0415999%2C%2051.4476945%2C%20-0.0415999%2C%2051.4476945%5D%2C%20%22geometry%22%3A%20%7B%22coordinates%22%3A%20%5B-0.0415999%2C%2051.4476945%5D%2C%20%22type%22%3A%20%22Point%22%7D%2C%20%22id%22%3A%20%2234%22%2C%20%22properties%22%3A%20%7B%22Location%22%3A%20%22Stondon%20Park%2C%20London%22%2C%20%22Result%22%3A%2024.5%2C%20%22__folium_color%22%3A%20%22%23fc9662%22%7D%2C%20%22type%22%3A%20%22Feature%22%7D%2C%20%7B%22bbox%22%3A%20%5B0.0033002%2C%2051.4691384%2C%200.0033002%2C%2051.4691384%5D%2C%20%22geometry%22%3A%20%7B%22coordinates%22%3A%20%5B0.0033002%2C%2051.4691384%5D%2C%20%22type%22%3A%20%22Point%22%7D%2C%20%22id%22%3A%20%2235%22%2C%20%22properties%22%3A%20%7B%22Location%22%3A%20%22Goffers%20Road%2C%20Blackheath%2C%20London%22%2C%20%22Result%22%3A%2024.4%2C%20%22__folium_color%22%3A%20%22%23fc9863%22%7D%2C%20%22type%22%3A%20%22Feature%22%7D%2C%20%7B%22bbox%22%3A%20%5B-0.0005637%2C%2051.4366516%2C%20-0.0005637%2C%2051.4366516%5D%2C%20%22geometry%22%3A%20%7B%22coordinates%22%3A%20%5B-0.0005637%2C%2051.4366516%5D%2C%20%22type%22%3A%20%22Point%22%7D%2C%20%22id%22%3A%20%2236%22%2C%20%22properties%22%3A%20%7B%22Location%22%3A%20%22hazelbank%20road%2C%20london%22%2C%20%22Result%22%3A%2024.1%2C%20%22__folium_color%22%3A%20%22%23fc9f6a%22%7D%2C%20%22type%22%3A%20%22Feature%22%7D%2C%20%7B%22bbox%22%3A%20%5B0.0092102%2C%2051.4343266%2C%200.0092102%2C%2051.4343266%5D%2C%20%22geometry%22%3A%20%7B%22coordinates%22%3A%20%5B0.0092102%2C%2051.4343266%5D%2C%20%22type%22%3A%20%22Point%22%7D%2C%20%22id%22%3A%20%2238%22%2C%20%22properties%22%3A%20%7B%22Location%22%3A%20%22208%20Verdant%20Lane%2C%20London%2C%20SE6%201LJ%22%2C%20%22Result%22%3A%2023.4%2C%20%22__folium_color%22%3A%20%22%23fdac76%22%7D%2C%20%22type%22%3A%20%22Feature%22%7D%2C%20%7B%22bbox%22%3A%20%5B-0.0317015%2C%2051.4705778%2C%20-0.0317015%2C%2051.4705778%5D%2C%20%22geometry%22%3A%20%7B%22coordinates%22%3A%20%5B-0.0317015%2C%2051.4705778%5D%2C%20%22type%22%3A%20%22Point%22%7D%2C%20%22id%22%3A%20%2239%22%2C%20%22properties%22%3A%20%7B%22Location%22%3A%20%22Rokeby%20Rd%2C%20London%20SE4%201DF%22%2C%20%22Result%22%3A%2022.8%2C%20%22__folium_color%22%3A%20%22%23fdb982%22%7D%2C%20%22type%22%3A%20%22Feature%22%7D%2C%20%7B%22bbox%22%3A%20%5B-0.0412725%2C%2051.4705127%2C%20-0.0412725%2C%2051.4705127%5D%2C%20%22geometry%22%3A%20%7B%22coordinates%22%3A%20%5B-0.0412725%2C%2051.4705127%5D%2C%20%22type%22%3A%20%22Point%22%7D%2C%20%22id%22%3A%20%2240%22%2C%20%22properties%22%3A%20%7B%22Location%22%3A%20%22101%20Jerningham%20Road%2C%20London%20SE14%205NH%22%2C%20%22Result%22%3A%2022.6%2C%20%22__folium_color%22%3A%20%22%23fdbc85%22%7D%2C%20%22type%22%3A%20%22Feature%22%7D%2C%20%7B%22bbox%22%3A%20%5B-0.03634933192989745%2C%2051.4569093%2C%20-0.03634933192989745%2C%2051.4569093%5D%2C%20%22geometry%22%3A%20%7B%22coordinates%22%3A%20%5B-0.03634933192989745%2C%2051.4569093%5D%2C%20%22type%22%3A%20%22Point%22%7D%2C%20%22id%22%3A%20%2241%22%2C%20%22properties%22%3A%20%7B%22Location%22%3A%20%22Beecroft%20Garden%20Primary%20School%2C%20Brockley%2C%20London%2C%20SE4%202BS.%22%2C%20%22Result%22%3A%2022.5%2C%20%22__folium_color%22%3A%20%22%23fdbd86%22%7D%2C%20%22type%22%3A%20%22Feature%22%7D%2C%20%7B%22bbox%22%3A%20%5B-0.0364986%2C%2051.4865145%2C%20-0.0364986%2C%2051.4865145%5D%2C%20%22geometry%22%3A%20%7B%22coordinates%22%3A%20%5B-0.0364986%2C%2051.4865145%5D%2C%20%22type%22%3A%20%22Point%22%7D%2C%20%22id%22%3A%20%2242%22%2C%20%22properties%22%3A%20%7B%22Location%22%3A%20%2246%20Grinstead%20Road%2C%20London%2C%20SE8%205AD%22%2C%20%22Result%22%3A%2022.5%2C%20%22__folium_color%22%3A%20%22%23fdbd86%22%7D%2C%20%22type%22%3A%20%22Feature%22%7D%2C%20%7B%22bbox%22%3A%20%5B-0.0070706%2C%2051.4522512%2C%20-0.0070706%2C%2051.4522512%5D%2C%20%22geometry%22%3A%20%7B%22coordinates%22%3A%20%5B-0.0070706%2C%2051.4522512%5D%2C%20%22type%22%3A%20%22Point%22%7D%2C%20%22id%22%3A%20%2243%22%2C%20%22properties%22%3A%20%7B%22Location%22%3A%20%22185%20Hither%20Green%20Lane%2C%20London%2C%20SE13%206QE%22%2C%20%22Result%22%3A%2022.2%2C%20%22__folium_color%22%3A%20%22%23fdc089%22%7D%2C%20%22type%22%3A%20%22Feature%22%7D%2C%20%7B%22bbox%22%3A%20%5B0.0236442%2C%2051.4327479%2C%200.0236442%2C%2051.4327479%5D%2C%20%22geometry%22%3A%20%7B%22coordinates%22%3A%20%5B0.0236442%2C%2051.4327479%5D%2C%20%22type%22%3A%20%22Point%22%7D%2C%20%22id%22%3A%20%2244%22%2C%20%22properties%22%3A%20%7B%22Location%22%3A%20%22Le%20May%20Avenue%2C%20London%22%2C%20%22Result%22%3A%2022.1%2C%20%22__folium_color%22%3A%20%22%23fdc28b%22%7D%2C%20%22type%22%3A%20%22Feature%22%7D%2C%20%7B%22bbox%22%3A%20%5B0.0205192%2C%2051.4453066%2C%200.0205192%2C%2051.4453066%5D%2C%20%22geometry%22%3A%20%7B%22coordinates%22%3A%20%5B0.0205192%2C%2051.4453066%5D%2C%20%22type%22%3A%20%22Point%22%7D%2C%20%22id%22%3A%20%2245%22%2C%20%22properties%22%3A%20%7B%22Location%22%3A%20%22131%20Woodyates%20Road%2C%20London%2C%20SE12%209JJ%22%2C%20%22Result%22%3A%2022.1%2C%20%22__folium_color%22%3A%20%22%23fdc28b%22%7D%2C%20%22type%22%3A%20%22Feature%22%7D%2C%20%7B%22bbox%22%3A%20%5B-0.0157171%2C%2051.4465498%2C%20-0.0157171%2C%2051.4465498%5D%2C%20%22geometry%22%3A%20%7B%22coordinates%22%3A%20%5B-0.0157171%2C%2051.4465498%5D%2C%20%22type%22%3A%20%22Point%22%7D%2C%20%22id%22%3A%20%2246%22%2C%20%22properties%22%3A%20%7B%22Location%22%3A%20%22Ringstead%20Road%2C%20Catford%22%2C%20%22Result%22%3A%2022.0%2C%20%22__folium_color%22%3A%20%22%23fdc38c%22%7D%2C%20%22type%22%3A%20%22Feature%22%7D%2C%20%7B%22bbox%22%3A%20%5B-0.040595%2C%2051.4816841%2C%20-0.040595%2C%2051.4816841%5D%2C%20%22geometry%22%3A%20%7B%22coordinates%22%3A%20%5B-0.040595%2C%2051.4816841%5D%2C%20%22type%22%3A%20%22Point%22%7D%2C%20%22id%22%3A%20%2247%22%2C%20%22properties%22%3A%20%7B%22Location%22%3A%20%22Chubworthy%20Street%2C%20London%2C%20se14%206he%22%2C%20%22Result%22%3A%2021.9%2C%20%22__folium_color%22%3A%20%22%23fdc48d%22%7D%2C%20%22type%22%3A%20%22Feature%22%7D%2C%20%7B%22bbox%22%3A%20%5B-0.0318115%2C%2051.4538489%2C%20-0.0318115%2C%2051.4538489%5D%2C%20%22geometry%22%3A%20%7B%22coordinates%22%3A%20%5B-0.0318115%2C%2051.4538489%5D%2C%20%22type%22%3A%20%22Point%22%7D%2C%20%22id%22%3A%20%2248%22%2C%20%22properties%22%3A%20%7B%22Location%22%3A%20%22140%20Chudleigh%20Road%2C%20London%2C%20SE4%201EE%22%2C%20%22Result%22%3A%2021.9%2C%20%22__folium_color%22%3A%20%22%23fdc48d%22%7D%2C%20%22type%22%3A%20%22Feature%22%7D%2C%20%7B%22bbox%22%3A%20%5B0.0044613%2C%2051.4585209%2C%200.0044613%2C%2051.4585209%5D%2C%20%22geometry%22%3A%20%7B%22coordinates%22%3A%20%5B0.0044613%2C%2051.4585209%5D%2C%20%22type%22%3A%20%22Point%22%7D%2C%20%22id%22%3A%20%2249%22%2C%20%22properties%22%3A%20%7B%22Location%22%3A%20%22308%20Lee%20High%20Road%2C%20London%20SE13%205PJ%22%2C%20%22Result%22%3A%2021.8%2C%20%22__folium_color%22%3A%20%22%23fdc58e%22%7D%2C%20%22type%22%3A%20%22Feature%22%7D%2C%20%7B%22bbox%22%3A%20%5B-0.0211109%2C%2051.4701982%2C%20-0.0211109%2C%2051.4701982%5D%2C%20%22geometry%22%3A%20%7B%22coordinates%22%3A%20%5B-0.0211109%2C%2051.4701982%5D%2C%20%22type%22%3A%20%22Point%22%7D%2C%20%22id%22%3A%20%2250%22%2C%20%22properties%22%3A%20%7B%22Location%22%3A%20%221%20Lind%20Street%2C%20London%2C%20SE8%204JE%22%2C%20%22Result%22%3A%2021.5%2C%20%22__folium_color%22%3A%20%22%23fdc892%22%7D%2C%20%22type%22%3A%20%22Feature%22%7D%2C%20%7B%22bbox%22%3A%20%5B-0.0054015%2C%2051.4631092%2C%20-0.0054015%2C%2051.4631092%5D%2C%20%22geometry%22%3A%20%7B%22coordinates%22%3A%20%5B-0.0054015%2C%2051.4631092%5D%2C%20%22type%22%3A%20%22Point%22%7D%2C%20%22id%22%3A%20%2251%22%2C%20%22properties%22%3A%20%7B%22Location%22%3A%20%22Boyne%20Road%2C%20Blackheath%2C%20London%22%2C%20%22Result%22%3A%2021.4%2C%20%22__folium_color%22%3A%20%22%23fdca93%22%7D%2C%20%22type%22%3A%20%22Feature%22%7D%2C%20%7B%22bbox%22%3A%20%5B-0.0153789%2C%2051.4318297%2C%20-0.0153789%2C%2051.4318297%5D%2C%20%22geometry%22%3A%20%7B%22coordinates%22%3A%20%5B-0.0153789%2C%2051.4318297%5D%2C%20%22type%22%3A%20%22Point%22%7D%2C%20%22id%22%3A%20%2252%22%2C%20%22properties%22%3A%20%7B%22Location%22%3A%20%2290%20Passfields%2C%20London%2C%20SE6%202RF%22%2C%20%22Result%22%3A%2021.4%2C%20%22__folium_color%22%3A%20%22%23fdca93%22%7D%2C%20%22type%22%3A%20%22Feature%22%7D%2C%20%7B%22bbox%22%3A%20%5B0.0064453%2C%2051.4479918%2C%200.0064453%2C%2051.4479918%5D%2C%20%22geometry%22%3A%20%7B%22coordinates%22%3A%20%5B0.0064453%2C%2051.4479918%5D%2C%20%22type%22%3A%20%22Point%22%7D%2C%20%22id%22%3A%20%2253%22%2C%20%22properties%22%3A%20%7B%22Location%22%3A%20%22268%20Manor%20Lane%2C%20London%2C%20SE12%200TG%22%2C%20%22Result%22%3A%2021.3%2C%20%22__folium_color%22%3A%20%22%23fdca94%22%7D%2C%20%22type%22%3A%20%22Feature%22%7D%2C%20%7B%22bbox%22%3A%20%5B0.0064453%2C%2051.4479918%2C%200.0064453%2C%2051.4479918%5D%2C%20%22geometry%22%3A%20%7B%22coordinates%22%3A%20%5B0.0064453%2C%2051.4479918%5D%2C%20%22type%22%3A%20%22Point%22%7D%2C%20%22id%22%3A%20%2255%22%2C%20%22properties%22%3A%20%7B%22Location%22%3A%20%22101%20Manor%20Lane%2C%20London%2C%20SE12%208LT%22%2C%20%22Result%22%3A%2020.9%2C%20%22__folium_color%22%3A%20%22%23fdcf99%22%7D%2C%20%22type%22%3A%20%22Feature%22%7D%2C%20%7B%22bbox%22%3A%20%5B0.0116658%2C%2051.4492158%2C%200.0116658%2C%2051.4492158%5D%2C%20%22geometry%22%3A%20%7B%22coordinates%22%3A%20%5B0.0116658%2C%2051.4492158%5D%2C%20%22type%22%3A%20%22Point%22%7D%2C%20%22id%22%3A%20%2256%22%2C%20%22properties%22%3A%20%7B%22Location%22%3A%20%221%20Holme%20Lacey%20Road%2C%20London%22%2C%20%22Result%22%3A%2020.9%2C%20%22__folium_color%22%3A%20%22%23fdcf99%22%7D%2C%20%22type%22%3A%20%22Feature%22%7D%2C%20%7B%22bbox%22%3A%20%5B-0.0237575%2C%2051.4392846%2C%20-0.0237575%2C%2051.4392846%5D%2C%20%22geometry%22%3A%20%7B%22coordinates%22%3A%20%5B-0.0237575%2C%2051.4392846%5D%2C%20%22type%22%3A%20%22Point%22%7D%2C%20%22id%22%3A%20%2257%22%2C%20%22properties%22%3A%20%7B%22Location%22%3A%20%227%20Fordmill%20Road%2C%20London%2C%20SE6%203JH%22%2C%20%22Result%22%3A%2020.9%2C%20%22__folium_color%22%3A%20%22%23fdcf99%22%7D%2C%20%22type%22%3A%20%22Feature%22%7D%2C%20%7B%22bbox%22%3A%20%5B-0.029463390119566613%2C%2051.48163835%2C%20-0.029463390119566613%2C%2051.48163835%5D%2C%20%22geometry%22%3A%20%7B%22coordinates%22%3A%20%5B-0.029463390119566613%2C%2051.48163835%5D%2C%20%22type%22%3A%20%22Point%22%7D%2C%20%22id%22%3A%20%2258%22%2C%20%22properties%22%3A%20%7B%22Location%22%3A%20%22Grinling%20Gibbons%2C%20Clyde%20St%2C%20London%2C%20SE8%205LW%22%2C%20%22Result%22%3A%2020.7%2C%20%22__folium_color%22%3A%20%22%23fdd19b%22%7D%2C%20%22type%22%3A%20%22Feature%22%7D%2C%20%7B%22bbox%22%3A%20%5B-0.0330531%2C%2051.4868117%2C%20-0.0330531%2C%2051.4868117%5D%2C%20%22geometry%22%3A%20%7B%22coordinates%22%3A%20%5B-0.0330531%2C%2051.4868117%5D%2C%20%22type%22%3A%20%22Point%22%7D%2C%20%22id%22%3A%20%2259%22%2C%20%22properties%22%3A%20%7B%22Location%22%3A%20%22Grove%20St%2C%20london%22%2C%20%22Result%22%3A%2020.6%2C%20%22__folium_color%22%3A%20%22%23fdd29c%22%7D%2C%20%22type%22%3A%20%22Feature%22%7D%2C%20%7B%22bbox%22%3A%20%5B-0.0382231%2C%2051.4375101%2C%20-0.0382231%2C%2051.4375101%5D%2C%20%22geometry%22%3A%20%7B%22coordinates%22%3A%20%5B-0.0382231%2C%2051.4375101%5D%2C%20%22type%22%3A%20%22Point%22%7D%2C%20%22id%22%3A%20%2260%22%2C%20%22properties%22%3A%20%7B%22Location%22%3A%20%22155%20Woolstone%20Road%2C%20London%2C%20SE23%202TG%22%2C%20%22Result%22%3A%2020.5%2C%20%22__folium_color%22%3A%20%22%23fdd39d%22%7D%2C%20%22type%22%3A%20%22Feature%22%7D%2C%20%7B%22bbox%22%3A%20%5B-0.0139394%2C%2051.4429994%2C%20-0.0139394%2C%2051.4429994%5D%2C%20%22geometry%22%3A%20%7B%22coordinates%22%3A%20%5B-0.0139394%2C%2051.4429994%5D%2C%20%22type%22%3A%20%22Point%22%7D%2C%20%22id%22%3A%20%2261%22%2C%20%22properties%22%3A%20%7B%22Location%22%3A%20%22208%20Sangley%20Rd%2C%20London%22%2C%20%22Result%22%3A%2020.4%2C%20%22__folium_color%22%3A%20%22%23fdd49f%22%7D%2C%20%22type%22%3A%20%22Feature%22%7D%2C%20%7B%22bbox%22%3A%20%5B-0.0254773%2C%2051.4776086%2C%20-0.0254773%2C%2051.4776086%5D%2C%20%22geometry%22%3A%20%7B%22coordinates%22%3A%20%5B-0.0254773%2C%2051.4776086%5D%2C%20%22type%22%3A%20%22Point%22%7D%2C%20%22id%22%3A%20%2262%22%2C%20%22properties%22%3A%20%7B%22Location%22%3A%20%2211%20Giffin%20St%2C%20London%20SE8%204RJ%22%2C%20%22Result%22%3A%2020.4%2C%20%22__folium_color%22%3A%20%22%23fdd49f%22%7D%2C%20%22type%22%3A%20%22Feature%22%7D%2C%20%7B%22bbox%22%3A%20%5B-0.0322735%2C%2051.4404594%2C%20-0.0322735%2C%2051.4404594%5D%2C%20%22geometry%22%3A%20%7B%22coordinates%22%3A%20%5B-0.0322735%2C%2051.4404594%5D%2C%20%22type%22%3A%20%22Point%22%7D%2C%20%22id%22%3A%20%2263%22%2C%20%22properties%22%3A%20%7B%22Location%22%3A%20%22Rathfern%20Road%2C%20London%20SE6%204NL%22%2C%20%22Result%22%3A%2020.4%2C%20%22__folium_color%22%3A%20%22%23fdd49f%22%7D%2C%20%22type%22%3A%20%22Feature%22%7D%2C%20%7B%22bbox%22%3A%20%5B-0.0230039%2C%2051.4473608%2C%20-0.0230039%2C%2051.4473608%5D%2C%20%22geometry%22%3A%20%7B%22coordinates%22%3A%20%5B-0.0230039%2C%2051.4473608%5D%2C%20%22type%22%3A%20%22Point%22%7D%2C%20%22id%22%3A%20%2264%22%2C%20%22properties%22%3A%20%7B%22Location%22%3A%20%22Nelgarde%20Road%2C%20London%20SE6%204TP%22%2C%20%22Result%22%3A%2020.4%2C%20%22__folium_color%22%3A%20%22%23fdd49f%22%7D%2C%20%22type%22%3A%20%22Feature%22%7D%2C%20%7B%22bbox%22%3A%20%5B-0.010019718725541474%2C%2051.45997475%2C%20-0.010019718725541474%2C%2051.45997475%5D%2C%20%22geometry%22%3A%20%7B%22coordinates%22%3A%20%5B-0.010019718725541474%2C%2051.45997475%5D%2C%20%22type%22%3A%20%22Point%22%7D%2C%20%22id%22%3A%20%2265%22%2C%20%22properties%22%3A%20%7B%22Location%22%3A%20%2210%20Bonfield%20Rd%2C%20London%20SE13%206AL%22%2C%20%22Result%22%3A%2020.3%2C%20%22__folium_color%22%3A%20%22%23fdd5a0%22%7D%2C%20%22type%22%3A%20%22Feature%22%7D%2C%20%7B%22bbox%22%3A%20%5B-0.0129901%2C%2051.4504374%2C%20-0.0129901%2C%2051.4504374%5D%2C%20%22geometry%22%3A%20%7B%22coordinates%22%3A%20%5B-0.0129901%2C%2051.4504374%5D%2C%20%22type%22%3A%20%22Point%22%7D%2C%20%22id%22%3A%20%2266%22%2C%20%22properties%22%3A%20%7B%22Location%22%3A%20%22George%20Lane%2C%20London%2C%20SE13%206HH%22%2C%20%22Result%22%3A%2020.3%2C%20%22__folium_color%22%3A%20%22%23fdd5a0%22%7D%2C%20%22type%22%3A%20%22Feature%22%7D%2C%20%7B%22bbox%22%3A%20%5B-0.0225302%2C%2051.4791758%2C%20-0.0225302%2C%2051.4791758%5D%2C%20%22geometry%22%3A%20%7B%22coordinates%22%3A%20%5B-0.0225302%2C%2051.4791758%5D%2C%20%22type%22%3A%20%22Point%22%7D%2C%20%22id%22%3A%20%2268%22%2C%20%22properties%22%3A%20%7B%22Location%22%3A%20%22Bronze%20Street%2C%20London%2C%20SE8%203DT%22%2C%20%22Result%22%3A%2020.1%2C%20%22__folium_color%22%3A%20%22%23fdd7a4%22%7D%2C%20%22type%22%3A%20%22Feature%22%7D%2C%20%7B%22bbox%22%3A%20%5B0.0066733%2C%2051.4252799%2C%200.0066733%2C%2051.4252799%5D%2C%20%22geometry%22%3A%20%7B%22coordinates%22%3A%20%5B0.0066733%2C%2051.4252799%5D%2C%20%22type%22%3A%20%22Point%22%7D%2C%20%22id%22%3A%20%2269%22%2C%20%22properties%22%3A%20%7B%22Location%22%3A%20%22549%20Downham%20Way%2C%20%2C%20BR1%205HX%22%2C%20%22Result%22%3A%2020.1%2C%20%22__folium_color%22%3A%20%22%23fdd7a4%22%7D%2C%20%22type%22%3A%20%22Feature%22%7D%2C%20%7B%22bbox%22%3A%20%5B-0.05043943031132062%2C%2051.4749128%2C%20-0.05043943031132062%2C%2051.4749128%5D%2C%20%22geometry%22%3A%20%7B%22coordinates%22%3A%20%5B-0.05043943031132062%2C%2051.4749128%5D%2C%20%22type%22%3A%20%22Point%22%7D%2C%20%22id%22%3A%20%2270%22%2C%20%22properties%22%3A%20%7B%22Location%22%3A%20%22Kender%20Primary%20School%2C%20London%20SE14%205JA%22%2C%20%22Result%22%3A%2019.9%2C%20%22__folium_color%22%3A%20%22%23fdd9a8%22%7D%2C%20%22type%22%3A%20%22Feature%22%7D%2C%20%7B%22bbox%22%3A%20%5B-0.0230414%2C%2051.4345152%2C%20-0.0230414%2C%2051.4345152%5D%2C%20%22geometry%22%3A%20%7B%22coordinates%22%3A%20%5B-0.0230414%2C%2051.4345152%5D%2C%20%22type%22%3A%20%22Point%22%7D%2C%20%22id%22%3A%20%2271%22%2C%20%22properties%22%3A%20%7B%22Location%22%3A%20%223%20Brookehowse%20Road%2C%20London%20SE6%203TJ%22%2C%20%22Result%22%3A%2019.8%2C%20%22__folium_color%22%3A%20%22%23fdd9aa%22%7D%2C%20%22type%22%3A%20%22Feature%22%7D%2C%20%7B%22bbox%22%3A%20%5B-0.04388857942564916%2C%2051.4692783%2C%20-0.04388857942564916%2C%2051.4692783%5D%2C%20%22geometry%22%3A%20%7B%22coordinates%22%3A%20%5B-0.04388857942564916%2C%2051.4692783%5D%2C%20%22type%22%3A%20%22Point%22%7D%2C%20%22id%22%3A%20%2274%22%2C%20%22properties%22%3A%20%7B%22Location%22%3A%20%22121%20Pepys%20Road%2C%20London%2C%20SE14%205SE%22%2C%20%22Result%22%3A%2019.6%2C%20%22__folium_color%22%3A%20%22%23fddbad%22%7D%2C%20%22type%22%3A%20%22Feature%22%7D%2C%20%7B%22bbox%22%3A%20%5B-0.0466027%2C%2051.4295749%2C%20-0.0466027%2C%2051.4295749%5D%2C%20%22geometry%22%3A%20%7B%22coordinates%22%3A%20%5B-0.0466027%2C%2051.4295749%5D%2C%20%22type%22%3A%20%22Point%22%7D%2C%20%22id%22%3A%20%2275%22%2C%20%22properties%22%3A%20%7B%22Location%22%3A%20%22Mayow%20Road%2C%20%20London%22%2C%20%22Result%22%3A%2019.5%2C%20%22__folium_color%22%3A%20%22%23fdddb0%22%7D%2C%20%22type%22%3A%20%22Feature%22%7D%2C%20%7B%22bbox%22%3A%20%5B0.0144377%2C%2051.4520366%2C%200.0144377%2C%2051.4520366%5D%2C%20%22geometry%22%3A%20%7B%22coordinates%22%3A%20%5B0.0144377%2C%2051.4520366%5D%2C%20%22type%22%3A%20%22Point%22%7D%2C%20%22id%22%3A%20%2277%22%2C%20%22properties%22%3A%20%7B%22Location%22%3A%20%2275%20Leyland%20Road%2C%20London%2C%20SE12%208DW%22%2C%20%22Result%22%3A%2019.3%2C%20%22__folium_color%22%3A%20%22%23fddeb3%22%7D%2C%20%22type%22%3A%20%22Feature%22%7D%2C%20%7B%22bbox%22%3A%20%5B-0.0716477%2C%2051.4316676%2C%20-0.0716477%2C%2051.4316676%5D%2C%20%22geometry%22%3A%20%7B%22coordinates%22%3A%20%5B-0.0716477%2C%2051.4316676%5D%2C%20%22type%22%3A%20%22Point%22%7D%2C%20%22id%22%3A%20%2278%22%2C%20%22properties%22%3A%20%7B%22Location%22%3A%20%22Wells%20Park%20Road%2C%20London%22%2C%20%22Result%22%3A%2019.3%2C%20%22__folium_color%22%3A%20%22%23fddeb3%22%7D%2C%20%22type%22%3A%20%22Feature%22%7D%2C%20%7B%22bbox%22%3A%20%5B-0.0102263%2C%2051.4376401%2C%20-0.0102263%2C%2051.4376401%5D%2C%20%22geometry%22%3A%20%7B%22coordinates%22%3A%20%5B-0.0102263%2C%2051.4376401%5D%2C%20%22type%22%3A%20%22Point%22%7D%2C%20%22id%22%3A%20%2281%22%2C%20%22properties%22%3A%20%7B%22Location%22%3A%20%22136%20Thornsbeach%20Road%2C%20London%2C%20SE6%201HB%22%2C%20%22Result%22%3A%2019.1%2C%20%22__folium_color%22%3A%20%22%23fee0b7%22%7D%2C%20%22type%22%3A%20%22Feature%22%7D%2C%20%7B%22bbox%22%3A%20%5B-0.0243644%2C%2051.4650149%2C%20-0.0243644%2C%2051.4650149%5D%2C%20%22geometry%22%3A%20%7B%22coordinates%22%3A%20%5B-0.0243644%2C%2051.4650149%5D%2C%20%22type%22%3A%20%22Point%22%7D%2C%20%22id%22%3A%20%2282%22%2C%20%22properties%22%3A%20%7B%22Location%22%3A%20%2272%20Tyrwhitt%20Road%2C%20London%2C%20SE4%201QB%22%2C%20%22Result%22%3A%2019.0%2C%20%22__folium_color%22%3A%20%22%23fee1b9%22%7D%2C%20%22type%22%3A%20%22Feature%22%7D%2C%20%7B%22bbox%22%3A%20%5B0.0044834%2C%2051.4609203%2C%200.0044834%2C%2051.4609203%5D%2C%20%22geometry%22%3A%20%7B%22coordinates%22%3A%20%5B0.0044834%2C%2051.4609203%5D%2C%20%22type%22%3A%20%22Point%22%7D%2C%20%22id%22%3A%20%2283%22%2C%20%22properties%22%3A%20%7B%22Location%22%3A%20%22Dacre%20Park%2C%20London%22%2C%20%22Result%22%3A%2018.8%2C%20%22__folium_color%22%3A%20%22%23fee2bc%22%7D%2C%20%22type%22%3A%20%22Feature%22%7D%2C%20%7B%22bbox%22%3A%20%5B-0.0336199%2C%2051.4535484%2C%20-0.0336199%2C%2051.4535484%5D%2C%20%22geometry%22%3A%20%7B%22coordinates%22%3A%20%5B-0.0336199%2C%2051.4535484%5D%2C%20%22type%22%3A%20%22Point%22%7D%2C%20%22id%22%3A%20%2284%22%2C%20%22properties%22%3A%20%7B%22Location%22%3A%20%22112%20Crofton%20Park%20Road%2C%20London%2C%20SE4%201AL%22%2C%20%22Result%22%3A%2018.5%2C%20%22__folium_color%22%3A%20%22%23fee5c3%22%7D%2C%20%22type%22%3A%20%22Feature%22%7D%2C%20%7B%22bbox%22%3A%20%5B-0.05955896620477094%2C%2051.434202049999996%2C%20-0.05955896620477094%2C%2051.434202049999996%5D%2C%20%22geometry%22%3A%20%7B%22coordinates%22%3A%20%5B-0.05955896620477094%2C%2051.434202049999996%5D%2C%20%22type%22%3A%20%22Point%22%7D%2C%20%22id%22%3A%20%2285%22%2C%20%22properties%22%3A%20%7B%22Location%22%3A%20%22Sydenham%20School%2C%20London%20SE26%204RD%22%2C%20%22Result%22%3A%2018.3%2C%20%22__folium_color%22%3A%20%22%23fee7c7%22%7D%2C%20%22type%22%3A%20%22Feature%22%7D%2C%20%7B%22bbox%22%3A%20%5B-0.018219145226421804%2C%2051.4422984%2C%20-0.018219145226421804%2C%2051.4422984%5D%2C%20%22geometry%22%3A%20%7B%22coordinates%22%3A%20%5B-0.018219145226421804%2C%2051.4422984%5D%2C%20%22type%22%3A%20%22Point%22%7D%2C%20%22id%22%3A%20%2287%22%2C%20%22properties%22%3A%20%7B%22Location%22%3A%20%22Rushey%20Green%20Primary%20School%2C%20London%2C%20SE6%202LA%22%2C%20%22Result%22%3A%2017.8%2C%20%22__folium_color%22%3A%20%22%23feebcf%22%7D%2C%20%22type%22%3A%20%22Feature%22%7D%2C%20%7B%22bbox%22%3A%20%5B0.0274904%2C%2051.4404431%2C%200.0274904%2C%2051.4404431%5D%2C%20%22geometry%22%3A%20%7B%22coordinates%22%3A%20%5B0.0274904%2C%2051.4404431%5D%2C%20%22type%22%3A%20%22Point%22%7D%2C%20%22id%22%3A%20%2288%22%2C%20%22properties%22%3A%20%7B%22Location%22%3A%20%2218%20Jevington%20Way%2C%20London%2C%20SE12%209NE%22%2C%20%22Result%22%3A%2017.8%2C%20%22__folium_color%22%3A%20%22%23feebcf%22%7D%2C%20%22type%22%3A%20%22Feature%22%7D%2C%20%7B%22bbox%22%3A%20%5B0.0024815%2C%2051.4349469%2C%200.0024815%2C%2051.4349469%5D%2C%20%22geometry%22%3A%20%7B%22coordinates%22%3A%20%5B0.0024815%2C%2051.4349469%5D%2C%20%22type%22%3A%20%22Point%22%7D%2C%20%22id%22%3A%20%2289%22%2C%20%22properties%22%3A%20%7B%22Location%22%3A%20%2249%20Castillon%20Road%2C%20London%2C%20SE6%201QB%22%2C%20%22Result%22%3A%2017.8%2C%20%22__folium_color%22%3A%20%22%23feebcf%22%7D%2C%20%22type%22%3A%20%22Feature%22%7D%2C%20%7B%22bbox%22%3A%20%5B0.001747%2C%2051.4207803%2C%200.001747%2C%2051.4207803%5D%2C%20%22geometry%22%3A%20%7B%22coordinates%22%3A%20%5B0.001747%2C%2051.4207803%5D%2C%20%22type%22%3A%20%22Point%22%7D%2C%20%22id%22%3A%20%2290%22%2C%20%22properties%22%3A%20%7B%22Location%22%3A%20%22198%20Glenbow%20Road%2C%20%2C%20BR1%204ND%22%2C%20%22Result%22%3A%2017.8%2C%20%22__folium_color%22%3A%20%22%23feebcf%22%7D%2C%20%22type%22%3A%20%22Feature%22%7D%2C%20%7B%22bbox%22%3A%20%5B0.0004235%2C%2051.4525616%2C%200.0004235%2C%2051.4525616%5D%2C%20%22geometry%22%3A%20%7B%22coordinates%22%3A%20%5B0.0004235%2C%2051.4525616%5D%2C%20%22type%22%3A%20%22Point%22%7D%2C%20%22id%22%3A%20%2293%22%2C%20%22properties%22%3A%20%7B%22Location%22%3A%20%22160%20Leahurst%20Road%2C%20London%2C%20SE13%205NL%22%2C%20%22Result%22%3A%2017.6%2C%20%22__folium_color%22%3A%20%22%23feecd1%22%7D%2C%20%22type%22%3A%20%22Feature%22%7D%2C%20%7B%22bbox%22%3A%20%5B-0.0611553%2C%2051.4362983%2C%20-0.0611553%2C%2051.4362983%5D%2C%20%22geometry%22%3A%20%7B%22coordinates%22%3A%20%5B-0.0611553%2C%2051.4362983%5D%2C%20%22type%22%3A%20%22Point%22%7D%2C%20%22id%22%3A%20%2294%22%2C%20%22properties%22%3A%20%7B%22Location%22%3A%20%2238%20Thorpewood%20Avenue%2C%20London%2C%20SE26%204BX%22%2C%20%22Result%22%3A%2017.6%2C%20%22__folium_color%22%3A%20%22%23feecd1%22%7D%2C%20%22type%22%3A%20%22Feature%22%7D%2C%20%7B%22bbox%22%3A%20%5B0.0066733%2C%2051.4252799%2C%200.0066733%2C%2051.4252799%5D%2C%20%22geometry%22%3A%20%7B%22coordinates%22%3A%20%5B0.0066733%2C%2051.4252799%5D%2C%20%22type%22%3A%20%22Point%22%7D%2C%20%22id%22%3A%20%2295%22%2C%20%22properties%22%3A%20%7B%22Location%22%3A%20%22165%20Downham%20Way%2C%20%2C%20BR1%205EL%22%2C%20%22Result%22%3A%2017.6%2C%20%22__folium_color%22%3A%20%22%23feecd1%22%7D%2C%20%22type%22%3A%20%22Feature%22%7D%2C%20%7B%22bbox%22%3A%20%5B0.0208502%2C%2051.4373605%2C%200.0208502%2C%2051.4373605%5D%2C%20%22geometry%22%3A%20%7B%22coordinates%22%3A%20%5B0.0208502%2C%2051.4373605%5D%2C%20%22type%22%3A%20%22Point%22%7D%2C%20%22id%22%3A%20%2296%22%2C%20%22properties%22%3A%20%7B%22Location%22%3A%20%2212%20Pragnell%20Road%2C%20London%2C%20SE12%200LF%22%2C%20%22Result%22%3A%2017.4%2C%20%22__folium_color%22%3A%20%22%23feedd4%22%7D%2C%20%22type%22%3A%20%22Feature%22%7D%2C%20%7B%22bbox%22%3A%20%5B-0.0475643%2C%2051.4314758%2C%20-0.0475643%2C%2051.4314758%5D%2C%20%22geometry%22%3A%20%7B%22coordinates%22%3A%20%5B-0.0475643%2C%2051.4314758%5D%2C%20%22type%22%3A%20%22Point%22%7D%2C%20%22id%22%3A%20%2297%22%2C%20%22properties%22%3A%20%7B%22Location%22%3A%20%22Dacres%20Rd%2C%20Lewisham%2C%20London%22%2C%20%22Result%22%3A%2017.4%2C%20%22__folium_color%22%3A%20%22%23feedd4%22%7D%2C%20%22type%22%3A%20%22Feature%22%7D%2C%20%7B%22bbox%22%3A%20%5B-0.0078041%2C%2051.4497192%2C%20-0.0078041%2C%2051.4497192%5D%2C%20%22geometry%22%3A%20%7B%22coordinates%22%3A%20%5B-0.0078041%2C%2051.4497192%5D%2C%20%22type%22%3A%20%22Point%22%7D%2C%20%22id%22%3A%20%2298%22%2C%20%22properties%22%3A%20%7B%22Location%22%3A%20%22193%20George%20Lane%2C%20London%2C%20SE13%206RY%22%2C%20%22Result%22%3A%2016.7%2C%20%22__folium_color%22%3A%20%22%23fff2e0%22%7D%2C%20%22type%22%3A%20%22Feature%22%7D%2C%20%7B%22bbox%22%3A%20%5B0.0207022%2C%2051.4306882%2C%200.0207022%2C%2051.4306882%5D%2C%20%22geometry%22%3A%20%7B%22coordinates%22%3A%20%5B0.0207022%2C%2051.4306882%5D%2C%20%22type%22%3A%20%22Point%22%7D%2C%20%22id%22%3A%20%2299%22%2C%20%22properties%22%3A%20%7B%22Location%22%3A%20%22Downham%20Way%2C%20%22%2C%20%22Result%22%3A%2016.6%2C%20%22__folium_color%22%3A%20%22%23fff3e2%22%7D%2C%20%22type%22%3A%20%22Feature%22%7D%2C%20%7B%22bbox%22%3A%20%5B0.0037153%2C%2051.4332636%2C%200.0037153%2C%2051.4332636%5D%2C%20%22geometry%22%3A%20%7B%22coordinates%22%3A%20%5B0.0037153%2C%2051.4332636%5D%2C%20%22type%22%3A%20%22Point%22%7D%2C%20%22id%22%3A%20%22100%22%2C%20%22properties%22%3A%20%7B%22Location%22%3A%20%22Greenvale%20School%2C%20London%2C%20SE6%201UF%22%2C%20%22Result%22%3A%2015.9%2C%20%22__folium_color%22%3A%20%22%23fff7ec%22%7D%2C%20%22type%22%3A%20%22Feature%22%7D%5D%2C%20%22type%22%3A%20%22FeatureCollection%22%7D%29%3B%0A%0A%20%20%20%20%20%20%20%20%0A%20%20%20%20%0A%20%20%20%20geo_json_5a0e06d2c6d14ddf8ee7ae478e4b7d57.bindTooltip%28%0A%20%20%20%20function%28layer%29%7B%0A%20%20%20%20let%20div%20%3D%20L.DomUtil.create%28%27div%27%29%3B%0A%20%20%20%20%0A%20%20%20%20let%20handleObject%20%3D%20feature%3D%3Etypeof%28feature%29%3D%3D%27object%27%20%3F%20JSON.stringify%28feature%29%20%3A%20feature%3B%0A%20%20%20%20let%20fields%20%3D%20%5B%22Location%22%2C%20%22Result%22%5D%3B%0A%20%20%20%20let%20aliases%20%3D%20%5B%22Location%22%2C%20%22Result%22%5D%3B%0A%20%20%20%20let%20table%20%3D%20%27%3Ctable%3E%27%20%2B%0A%20%20%20%20%20%20%20%20String%28%0A%20%20%20%20%20%20%20%20fields.map%28%0A%20%20%20%20%20%20%20%20%28v%2Ci%29%3D%3E%0A%20%20%20%20%20%20%20%20%60%3Ctr%3E%0A%20%20%20%20%20%20%20%20%20%20%20%20%3Cth%3E%24%7Baliases%5Bi%5D%7D%3C/th%3E%0A%20%20%20%20%20%20%20%20%20%20%20%20%0A%20%20%20%20%20%20%20%20%20%20%20%20%3Ctd%3E%24%7BhandleObject%28layer.feature.properties%5Bv%5D%29%7D%3C/td%3E%0A%20%20%20%20%20%20%20%20%3C/tr%3E%60%29.join%28%27%27%29%29%0A%20%20%20%20%2B%27%3C/table%3E%27%3B%0A%20%20%20%20div.innerHTML%3Dtable%3B%0A%20%20%20%20%0A%20%20%20%20return%20div%0A%20%20%20%20%7D%0A%20%20%20%20%2C%7B%22className%22%3A%20%22foliumtooltip%22%2C%20%22sticky%22%3A%20true%7D%29%3B%0A%20%20%20%20%20%20%20%20%20%20%20%20%20%20%20%20%20%20%20%20%20%0A%20%20%20%20%0A%20%20%20%20var%20color_map_76267ab991554158b77ab435b2f7e726%20%3D%20%7B%7D%3B%0A%0A%20%20%20%20%0A%20%20%20%20color_map_76267ab991554158b77ab435b2f7e726.color%20%3D%20d3.scale.threshold%28%29%0A%20%20%20%20%20%20%20%20%20%20%20%20%20%20.domain%28%5B15.9%2C%2015.93627254509018%2C%2015.972545090180361%2C%2016.008817635270542%2C%2016.04509018036072%2C%2016.0813627254509%2C%2016.117635270541083%2C%2016.153907815631264%2C%2016.190180360721442%2C%2016.226452905811623%2C%2016.262725450901804%2C%2016.298997995991986%2C%2016.335270541082163%2C%2016.371543086172345%2C%2016.407815631262526%2C%2016.444088176352707%2C%2016.480360721442885%2C%2016.516633266533066%2C%2016.552905811623248%2C%2016.58917835671343%2C%2016.625450901803607%2C%2016.661723446893788%2C%2016.69799599198397%2C%2016.734268537074147%2C%2016.77054108216433%2C%2016.80681362725451%2C%2016.84308617234469%2C%2016.87935871743487%2C%2016.91563126252505%2C%2016.95190380761523%2C%2016.988176352705413%2C%2017.02444889779559%2C%2017.06072144288577%2C%2017.096993987975953%2C%2017.133266533066134%2C%2017.169539078156312%2C%2017.205811623246493%2C%2017.242084168336675%2C%2017.278356713426856%2C%2017.314629258517034%2C%2017.350901803607215%2C%2017.387174348697396%2C%2017.423446893787574%2C%2017.459719438877755%2C%2017.495991983967937%2C%2017.532264529058118%2C%2017.568537074148296%2C%2017.604809619238477%2C%2017.641082164328658%2C%2017.67735470941884%2C%2017.713627254509017%2C%2017.7498997995992%2C%2017.78617234468938%2C%2017.82244488977956%2C%2017.85871743486974%2C%2017.89498997995992%2C%2017.9312625250501%2C%2017.96753507014028%2C%2018.00380761523046%2C%2018.04008016032064%2C%2018.076352705410823%2C%2018.112625250501004%2C%2018.148897795591182%2C%2018.185170340681363%2C%2018.221442885771545%2C%2018.257715430861722%2C%2018.293987975951904%2C%2018.330260521042085%2C%2018.366533066132266%2C%2018.402805611222444%2C%2018.439078156312625%2C%2018.475350701402807%2C%2018.511623246492988%2C%2018.547895791583166%2C%2018.584168336673347%2C%2018.62044088176353%2C%2018.65671342685371%2C%2018.692985971943887%2C%2018.72925851703407%2C%2018.76553106212425%2C%2018.801803607214428%2C%2018.83807615230461%2C%2018.87434869739479%2C%2018.91062124248497%2C%2018.94689378757515%2C%2018.98316633266533%2C%2019.019438877755512%2C%2019.055711422845693%2C%2019.09198396793587%2C%2019.128256513026052%2C%2019.164529058116234%2C%2019.200801603206415%2C%2019.237074148296593%2C%2019.273346693386774%2C%2019.309619238476955%2C%2019.345891783567136%2C%2019.382164328657314%2C%2019.418436873747495%2C%2019.454709418837677%2C%2019.490981963927858%2C%2019.527254509018036%2C%2019.563527054108217%2C%2019.5997995991984%2C%2019.636072144288576%2C%2019.672344689378757%2C%2019.70861723446894%2C%2019.74488977955912%2C%2019.781162324649298%2C%2019.81743486973948%2C%2019.85370741482966%2C%2019.88997995991984%2C%2019.92625250501002%2C%2019.9625250501002%2C%2019.998797595190382%2C%2020.03507014028056%2C%2020.07134268537074%2C%2020.107615230460922%2C%2020.143887775551104%2C%2020.180160320641285%2C%2020.216432865731463%2C%2020.252705410821644%2C%2020.288977955911825%2C%2020.325250501002003%2C%2020.361523046092184%2C%2020.397795591182366%2C%2020.434068136272543%2C%2020.470340681362728%2C%2020.506613226452906%2C%2020.542885771543087%2C%2020.57915831663327%2C%2020.615430861723446%2C%2020.651703406813628%2C%2020.68797595190381%2C%2020.724248496993987%2C%2020.760521042084168%2C%2020.79679358717435%2C%2020.83306613226453%2C%2020.869338677354712%2C%2020.90561122244489%2C%2020.94188376753507%2C%2020.978156312625252%2C%2021.01442885771543%2C%2021.05070140280561%2C%2021.086973947895792%2C%2021.123246492985974%2C%2021.15951903807615%2C%2021.195791583166333%2C%2021.232064128256514%2C%2021.268336673346695%2C%2021.304609218436873%2C%2021.340881763527054%2C%2021.377154308617236%2C%2021.413426853707417%2C%2021.449699398797595%2C%2021.485971943887776%2C%2021.522244488977957%2C%2021.55851703406814%2C%2021.594789579158316%2C%2021.631062124248498%2C%2021.66733466933868%2C%2021.703607214428857%2C%2021.739879759519038%2C%2021.77615230460922%2C%2021.8124248496994%2C%2021.84869739478958%2C%2021.88496993987976%2C%2021.92124248496994%2C%2021.957515030060122%2C%2021.9937875751503%2C%2022.03006012024048%2C%2022.066332665330663%2C%2022.102605210420844%2C%2022.13887775551102%2C%2022.175150300601203%2C%2022.211422845691384%2C%2022.247695390781566%2C%2022.283967935871743%2C%2022.320240480961925%2C%2022.356513026052106%2C%2022.392785571142284%2C%2022.429058116232465%2C%2022.465330661322646%2C%2022.501603206412828%2C%2022.53787575150301%2C%2022.574148296593187%2C%2022.610420841683368%2C%2022.64669338677355%2C%2022.682965931863727%2C%2022.719238476953908%2C%2022.75551102204409%2C%2022.79178356713427%2C%2022.828056112224452%2C%2022.86432865731463%2C%2022.90060120240481%2C%2022.936873747494992%2C%2022.97314629258517%2C%2023.00941883767535%2C%2023.045691382765533%2C%2023.08196392785571%2C%2023.118236472945892%2C%2023.154509018036073%2C%2023.190781563126254%2C%2023.227054108216436%2C%2023.263326653306613%2C%2023.299599198396795%2C%2023.335871743486976%2C%2023.372144288577154%2C%2023.408416833667335%2C%2023.444689378757516%2C%2023.480961923847694%2C%2023.51723446893788%2C%2023.553507014028057%2C%2023.589779559118238%2C%2023.62605210420842%2C%2023.662324649298597%2C%2023.69859719438878%2C%2023.73486973947896%2C%2023.771142284569137%2C%2023.80741482965932%2C%2023.8436873747495%2C%2023.87995991983968%2C%2023.916232464929863%2C%2023.95250501002004%2C%2023.98877755511022%2C%2024.025050100200403%2C%2024.06132264529058%2C%2024.097595190380762%2C%2024.133867735470943%2C%2024.17014028056112%2C%2024.206412825651306%2C%2024.242685370741484%2C%2024.278957915831665%2C%2024.315230460921846%2C%2024.351503006012024%2C%2024.387775551102205%2C%2024.424048096192386%2C%2024.460320641282564%2C%2024.49659318637275%2C%2024.532865731462927%2C%2024.569138276553108%2C%2024.60541082164329%2C%2024.641683366733467%2C%2024.67795591182365%2C%2024.71422845691383%2C%2024.750501002004007%2C%2024.78677354709419%2C%2024.82304609218437%2C%2024.85931863727455%2C%2024.895591182364733%2C%2024.93186372745491%2C%2024.968136272545088%2C%2025.004408817635273%2C%2025.04068136272545%2C%2025.076953907815632%2C%2025.113226452905813%2C%2025.14949899799599%2C%2025.185771543086176%2C%2025.222044088176354%2C%2025.25831663326653%2C%2025.294589178356716%2C%2025.330861723446894%2C%2025.367134268537075%2C%2025.403406813627257%2C%2025.439679358717434%2C%2025.47595190380762%2C%2025.512224448897797%2C%2025.548496993987975%2C%2025.58476953907816%2C%2025.621042084168337%2C%2025.65731462925852%2C%2025.6935871743487%2C%2025.729859719438878%2C%2025.766132264529062%2C%2025.80240480961924%2C%2025.838677354709418%2C%2025.8749498997996%2C%2025.91122244488978%2C%2025.947494989979962%2C%2025.983767535070143%2C%2026.02004008016032%2C%2026.056312625250502%2C%2026.092585170340683%2C%2026.12885771543086%2C%2026.165130260521043%2C%2026.201402805611224%2C%2026.2376753507014%2C%2026.273947895791586%2C%2026.310220440881764%2C%2026.346492985971945%2C%2026.382765531062127%2C%2026.419038076152304%2C%2026.455310621242486%2C%2026.491583166332667%2C%2026.527855711422845%2C%2026.56412825651303%2C%2026.600400801603207%2C%2026.63667334669339%2C%2026.67294589178357%2C%2026.709218436873748%2C%2026.74549098196393%2C%2026.78176352705411%2C%2026.818036072144288%2C%2026.854308617234473%2C%2026.89058116232465%2C%2026.926853707414832%2C%2026.96312625250501%2C%2026.99939879759519%2C%2027.035671342685372%2C%2027.071943887775554%2C%2027.10821643286573%2C%2027.144488977955913%2C%2027.180761523046094%2C%2027.217034068136275%2C%2027.253306613226453%2C%2027.289579158316634%2C%2027.325851703406812%2C%2027.362124248496997%2C%2027.398396793587175%2C%2027.434669338677356%2C%2027.470941883767537%2C%2027.507214428857715%2C%2027.543486973947896%2C%2027.579759519038078%2C%2027.616032064128255%2C%2027.65230460921844%2C%2027.688577154308618%2C%2027.7248496993988%2C%2027.76112224448898%2C%2027.797394789579158%2C%2027.83366733466934%2C%2027.86993987975952%2C%2027.9062124248497%2C%2027.942484969939883%2C%2027.97875751503006%2C%2028.015030060120242%2C%2028.051302605210424%2C%2028.0875751503006%2C%2028.123847695390783%2C%2028.160120240480964%2C%2028.196392785571142%2C%2028.232665330661327%2C%2028.268937875751504%2C%2028.305210420841686%2C%2028.341482965931867%2C%2028.377755511022045%2C%2028.414028056112226%2C%2028.450300601202407%2C%2028.486573146292585%2C%2028.522845691382766%2C%2028.559118236472948%2C%2028.59539078156313%2C%2028.63166332665331%2C%2028.667935871743488%2C%2028.704208416833666%2C%2028.74048096192385%2C%2028.77675350701403%2C%2028.81302605210421%2C%2028.84929859719439%2C%2028.88557114228457%2C%2028.921843687374754%2C%2028.95811623246493%2C%2028.99438877755511%2C%2029.030661322645294%2C%2029.06693386773547%2C%2029.103206412825653%2C%2029.139478957915834%2C%2029.175751503006012%2C%2029.212024048096197%2C%2029.248296593186375%2C%2029.284569138276552%2C%2029.320841683366737%2C%2029.357114228456915%2C%2029.393386773547096%2C%2029.429659318637277%2C%2029.465931863727455%2C%2029.50220440881764%2C%2029.538476953907818%2C%2029.574749498997996%2C%2029.611022044088177%2C%2029.647294589178358%2C%2029.68356713426854%2C%2029.71983967935872%2C%2029.7561122244489%2C%2029.792384769539076%2C%2029.82865731462926%2C%2029.86492985971944%2C%2029.90120240480962%2C%2029.9374749498998%2C%2029.97374749498998%2C%2030.010020040080164%2C%2030.04629258517034%2C%2030.08256513026052%2C%2030.118837675350704%2C%2030.155110220440882%2C%2030.191382765531063%2C%2030.227655310621245%2C%2030.263927855711422%2C%2030.300200400801607%2C%2030.336472945891785%2C%2030.372745490981963%2C%2030.409018036072148%2C%2030.445290581162325%2C%2030.481563126252507%2C%2030.517835671342688%2C%2030.554108216432866%2C%2030.59038076152305%2C%2030.62665330661323%2C%2030.662925851703406%2C%2030.699198396793587%2C%2030.73547094188377%2C%2030.77174348697395%2C%2030.80801603206413%2C%2030.84428857715431%2C%2030.88056112224449%2C%2030.91683366733467%2C%2030.95310621242485%2C%2030.98937875751503%2C%2031.025651302605212%2C%2031.06192384769539%2C%2031.098196392785574%2C%2031.134468937875752%2C%2031.170741482965933%2C%2031.207014028056115%2C%2031.243286573146293%2C%2031.279559118236474%2C%2031.315831663326655%2C%2031.352104208416833%2C%2031.388376753507018%2C%2031.424649298597195%2C%2031.460921843687377%2C%2031.497194388777558%2C%2031.533466933867736%2C%2031.569739478957917%2C%2031.6060120240481%2C%2031.642284569138276%2C%2031.67855711422846%2C%2031.71482965931864%2C%2031.75110220440882%2C%2031.787374749499%2C%2031.82364729458918%2C%2031.85991983967936%2C%2031.89619238476954%2C%2031.93246492985972%2C%2031.968737474949897%2C%2032.00501002004008%2C%2032.04128256513026%2C%2032.077555110220445%2C%2032.11382765531062%2C%2032.15010020040081%2C%2032.186372745490985%2C%2032.22264529058116%2C%2032.25891783567134%2C%2032.295190380761525%2C%2032.3314629258517%2C%2032.36773547094189%2C%2032.404008016032066%2C%2032.44028056112224%2C%2032.47655310621243%2C%2032.512825651302606%2C%2032.54909819639279%2C%2032.58537074148297%2C%2032.621643286573146%2C%2032.65791583166333%2C%2032.69418837675351%2C%2032.730460921843694%2C%2032.76673346693387%2C%2032.80300601202405%2C%2032.83927855711423%2C%2032.87555110220441%2C%2032.91182364729459%2C%2032.94809619238477%2C%2032.98436873747495%2C%2033.02064128256513%2C%2033.056913827655315%2C%2033.09318637274549%2C%2033.12945891783567%2C%2033.165731462925855%2C%2033.20200400801603%2C%2033.23827655310622%2C%2033.274549098196395%2C%2033.31082164328657%2C%2033.34709418837676%2C%2033.383366733466936%2C%2033.41963927855711%2C%2033.4559118236473%2C%2033.492184368737476%2C%2033.528456913827654%2C%2033.56472945891784%2C%2033.601002004008016%2C%2033.6372745490982%2C%2033.67354709418838%2C%2033.70981963927856%2C%2033.74609218436874%2C%2033.78236472945892%2C%2033.818637274549104%2C%2033.85490981963928%2C%2033.89118236472946%2C%2033.927454909819645%2C%2033.96372745490982%2C%2034.0%5D%29%0A%20%20%20%20%20%20%20%20%20%20%20%20%20%20.range%28%5B%27%23fff7ecff%27%2C%20%27%23fff7ecff%27%2C%20%27%23fff7ebff%27%2C%20%27%23fff7ebff%27%2C%20%27%23fff6eaff%27%2C%20%27%23fff6eaff%27%2C%20%27%23fff6e9ff%27%2C%20%27%23fff6e8ff%27%2C%20%27%23fff5e7ff%27%2C%20%27%23fff5e7ff%27%2C%20%27%23fff5e6ff%27%2C%20%27%23fff5e6ff%27%2C%20%27%23fff4e5ff%27%2C%20%27%23fff4e5ff%27%2C%20%27%23fff4e4ff%27%2C%20%27%23fff4e4ff%27%2C%20%27%23fff3e3ff%27%2C%20%27%23fff3e3ff%27%2C%20%27%23fff3e2ff%27%2C%20%27%23fff3e2ff%27%2C%20%27%23fff2e1ff%27%2C%20%27%23fff2e1ff%27%2C%20%27%23fff2e0ff%27%2C%20%27%23fff2dfff%27%2C%20%27%23fff1deff%27%2C%20%27%23fff1deff%27%2C%20%27%23fff1ddff%27%2C%20%27%23fff1ddff%27%2C%20%27%23fff0dcff%27%2C%20%27%23fff0dcff%27%2C%20%27%23fff0dbff%27%2C%20%27%23fff0dbff%27%2C%20%27%23feefdaff%27%2C%20%27%23feefd9ff%27%2C%20%27%23feefd9ff%27%2C%20%27%23feefd8ff%27%2C%20%27%23feefd8ff%27%2C%20%27%23feefd7ff%27%2C%20%27%23feeed7ff%27%2C%20%27%23feeed5ff%27%2C%20%27%23feeed5ff%27%2C%20%27%23feedd4ff%27%2C%20%27%23feedd4ff%27%2C%20%27%23feedd3ff%27%2C%20%27%23feedd3ff%27%2C%20%27%23feecd2ff%27%2C%20%27%23feecd2ff%27%2C%20%27%23feecd1ff%27%2C%20%27%23feecd1ff%27%2C%20%27%23feebd0ff%27%2C%20%27%23feebd0ff%27%2C%20%27%23feebcfff%27%2C%20%27%23feebcfff%27%2C%20%27%23feeaceff%27%2C%20%27%23feeacdff%27%2C%20%27%23feeaccff%27%2C%20%27%23feeaccff%27%2C%20%27%23fee9cbff%27%2C%20%27%23fee9cbff%27%2C%20%27%23fee9caff%27%2C%20%27%23fee9caff%27%2C%20%27%23fee8c9ff%27%2C%20%27%23fee8c9ff%27%2C%20%27%23fee8c8ff%27%2C%20%27%23fee8c8ff%27%2C%20%27%23fee7c7ff%27%2C%20%27%23fee7c6ff%27%2C%20%27%23fee7c5ff%27%2C%20%27%23fee7c5ff%27%2C%20%27%23fee6c4ff%27%2C%20%27%23fee6c3ff%27%2C%20%27%23fee5c3ff%27%2C%20%27%23fee5c2ff%27%2C%20%27%23fee5c1ff%27%2C%20%27%23fee5c0ff%27%2C%20%27%23fee4c0ff%27%2C%20%27%23fee4bfff%27%2C%20%27%23fee4bfff%27%2C%20%27%23fee4beff%27%2C%20%27%23fee3bdff%27%2C%20%27%23fee3bcff%27%2C%20%27%23fee2bcff%27%2C%20%27%23fee2bbff%27%2C%20%27%23fee2baff%27%2C%20%27%23fee1b9ff%27%2C%20%27%23fee1b9ff%27%2C%20%27%23fee0b8ff%27%2C%20%27%23fee0b8ff%27%2C%20%27%23fee0b7ff%27%2C%20%27%23fee0b6ff%27%2C%20%27%23fedfb5ff%27%2C%20%27%23fedfb5ff%27%2C%20%27%23fedfb4ff%27%2C%20%27%23fedfb4ff%27%2C%20%27%23fddeb3ff%27%2C%20%27%23fddeb2ff%27%2C%20%27%23fdddb1ff%27%2C%20%27%23fdddb1ff%27%2C%20%27%23fdddb0ff%27%2C%20%27%23fdddb0ff%27%2C%20%27%23fddcafff%27%2C%20%27%23fddcaeff%27%2C%20%27%23fddbadff%27%2C%20%27%23fddbadff%27%2C%20%27%23fddbacff%27%2C%20%27%23fddbacff%27%2C%20%27%23fddaabff%27%2C%20%27%23fddaaaff%27%2C%20%27%23fdd9aaff%27%2C%20%27%23fdd9a9ff%27%2C%20%27%23fdd9a8ff%27%2C%20%27%23fdd9a7ff%27%2C%20%27%23fdd8a7ff%27%2C%20%27%23fdd8a6ff%27%2C%20%27%23fdd8a6ff%27%2C%20%27%23fdd8a5ff%27%2C%20%27%23fdd7a4ff%27%2C%20%27%23fdd7a3ff%27%2C%20%27%23fdd6a3ff%27%2C%20%27%23fdd6a2ff%27%2C%20%27%23fdd6a1ff%27%2C%20%27%23fdd6a0ff%27%2C%20%27%23fdd5a0ff%27%2C%20%27%23fdd49fff%27%2C%20%27%23fdd49fff%27%2C%20%27%23fdd49eff%27%2C%20%27%23fdd49eff%27%2C%20%27%23fdd39dff%27%2C%20%27%23fdd39dff%27%2C%20%27%23fdd29cff%27%2C%20%27%23fdd29cff%27%2C%20%27%23fdd19bff%27%2C%20%27%23fdd19bff%27%2C%20%27%23fdd19bff%27%2C%20%27%23fdd19bff%27%2C%20%27%23fdd09aff%27%2C%20%27%23fdd09aff%27%2C%20%27%23fdcf99ff%27%2C%20%27%23fdcf99ff%27%2C%20%27%23fdce98ff%27%2C%20%27%23fdce98ff%27%2C%20%27%23fdce97ff%27%2C%20%27%23fdce97ff%27%2C%20%27%23fdcd96ff%27%2C%20%27%23fdcd96ff%27%2C%20%27%23fdcc96ff%27%2C%20%27%23fdcc95ff%27%2C%20%27%23fdcb95ff%27%2C%20%27%23fdcb94ff%27%2C%20%27%23fdca94ff%27%2C%20%27%23fdca93ff%27%2C%20%27%23fdca93ff%27%2C%20%27%23fdca92ff%27%2C%20%27%23fdc992ff%27%2C%20%27%23fdc992ff%27%2C%20%27%23fdc892ff%27%2C%20%27%23fdc891ff%27%2C%20%27%23fdc791ff%27%2C%20%27%23fdc790ff%27%2C%20%27%23fdc690ff%27%2C%20%27%23fdc68fff%27%2C%20%27%23fdc68fff%27%2C%20%27%23fdc58eff%27%2C%20%27%23fdc58eff%27%2C%20%27%23fdc48dff%27%2C%20%27%23fdc48dff%27%2C%20%27%23fdc38dff%27%2C%20%27%23fdc38dff%27%2C%20%27%23fdc38cff%27%2C%20%27%23fdc38cff%27%2C%20%27%23fdc28bff%27%2C%20%27%23fdc28bff%27%2C%20%27%23fdc18aff%27%2C%20%27%23fdc18aff%27%2C%20%27%23fdc089ff%27%2C%20%27%23fdc089ff%27%2C%20%27%23fdbf89ff%27%2C%20%27%23fdbf89ff%27%2C%20%27%23fdbf88ff%27%2C%20%27%23fdbf88ff%27%2C%20%27%23fdbe87ff%27%2C%20%27%23fdbe87ff%27%2C%20%27%23fdbd86ff%27%2C%20%27%23fdbd86ff%27%2C%20%27%23fdbc85ff%27%2C%20%27%23fdbc85ff%27%2C%20%27%23fdbb85ff%27%2C%20%27%23fdbb84ff%27%2C%20%27%23fdba83ff%27%2C%20%27%23fdba82ff%27%2C%20%27%23fdb982ff%27%2C%20%27%23fdb981ff%27%2C%20%27%23fdb881ff%27%2C%20%27%23fdb780ff%27%2C%20%27%23fdb67fff%27%2C%20%27%23fdb67eff%27%2C%20%27%23fdb57eff%27%2C%20%27%23fdb47dff%27%2C%20%27%23fdb37dff%27%2C%20%27%23fdb37cff%27%2C%20%27%23fdb27bff%27%2C%20%27%23fdb17aff%27%2C%20%27%23fdb07aff%27%2C%20%27%23fdaf79ff%27%2C%20%27%23fdaf78ff%27%2C%20%27%23fdae77ff%27%2C%20%27%23fdad77ff%27%2C%20%27%23fdac76ff%27%2C%20%27%23fdac76ff%27%2C%20%27%23fdab75ff%27%2C%20%27%23fdab74ff%27%2C%20%27%23fdaa73ff%27%2C%20%27%23fda973ff%27%2C%20%27%23fda872ff%27%2C%20%27%23fda772ff%27%2C%20%27%23fda671ff%27%2C%20%27%23fda670ff%27%2C%20%27%23fda56fff%27%2C%20%27%23fda46fff%27%2C%20%27%23fda36eff%27%2C%20%27%23fca36eff%27%2C%20%27%23fca26dff%27%2C%20%27%23fca16cff%27%2C%20%27%23fca06bff%27%2C%20%27%23fca06aff%27%2C%20%27%23fc9f6aff%27%2C%20%27%23fc9f69ff%27%2C%20%27%23fc9e69ff%27%2C%20%27%23fc9d68ff%27%2C%20%27%23fc9c67ff%27%2C%20%27%23fc9c66ff%27%2C%20%27%23fc9b66ff%27%2C%20%27%23fc9a65ff%27%2C%20%27%23fc9964ff%27%2C%20%27%23fc9963ff%27%2C%20%27%23fc9863ff%27%2C%20%27%23fc9762ff%27%2C%20%27%23fc9662ff%27%2C%20%27%23fc9561ff%27%2C%20%27%23fc9560ff%27%2C%20%27%23fc945fff%27%2C%20%27%23fc935fff%27%2C%20%27%23fc925eff%27%2C%20%27%23fc925eff%27%2C%20%27%23fc915cff%27%2C%20%27%23fc915cff%27%2C%20%27%23fc905bff%27%2C%20%27%23fc8f5bff%27%2C%20%27%23fc8e5aff%27%2C%20%27%23fc8e5aff%27%2C%20%27%23fc8d59ff%27%2C%20%27%23fc8c59ff%27%2C%20%27%23fc8b58ff%27%2C%20%27%23fb8b58ff%27%2C%20%27%23fb8a58ff%27%2C%20%27%23fb8a58ff%27%2C%20%27%23fb8957ff%27%2C%20%27%23fb8857ff%27%2C%20%27%23fb8757ff%27%2C%20%27%23fa8756ff%27%2C%20%27%23fa8656ff%27%2C%20%27%23fa8656ff%27%2C%20%27%23fa8556ff%27%2C%20%27%23f98555ff%27%2C%20%27%23f98455ff%27%2C%20%27%23f98354ff%27%2C%20%27%23f98254ff%27%2C%20%27%23f98254ff%27%2C%20%27%23f98154ff%27%2C%20%27%23f88153ff%27%2C%20%27%23f88053ff%27%2C%20%27%23f88053ff%27%2C%20%27%23f77f53ff%27%2C%20%27%23f77e52ff%27%2C%20%27%23f77d52ff%27%2C%20%27%23f77c52ff%27%2C%20%27%23f67c52ff%27%2C%20%27%23f67b51ff%27%2C%20%27%23f67b51ff%27%2C%20%27%23f67a51ff%27%2C%20%27%23f67a51ff%27%2C%20%27%23f67950ff%27%2C%20%27%23f57850ff%27%2C%20%27%23f57750ff%27%2C%20%27%23f57750ff%27%2C%20%27%23f5764fff%27%2C%20%27%23f4764fff%27%2C%20%27%23f4754fff%27%2C%20%27%23f4754fff%27%2C%20%27%23f4744eff%27%2C%20%27%23f4734eff%27%2C%20%27%23f4724eff%27%2C%20%27%23f3724eff%27%2C%20%27%23f3714dff%27%2C%20%27%23f3714dff%27%2C%20%27%23f3704cff%27%2C%20%27%23f26f4cff%27%2C%20%27%23f26e4cff%27%2C%20%27%23f26e4cff%27%2C%20%27%23f26d4bff%27%2C%20%27%23f26d4bff%27%2C%20%27%23f26c4bff%27%2C%20%27%23f16b4aff%27%2C%20%27%23f16a4aff%27%2C%20%27%23f16a4aff%27%2C%20%27%23f1694aff%27%2C%20%27%23f06949ff%27%2C%20%27%23f06849ff%27%2C%20%27%23f06849ff%27%2C%20%27%23f06749ff%27%2C%20%27%23f06648ff%27%2C%20%27%23f06548ff%27%2C%20%27%23ef6447ff%27%2C%20%27%23ef6447ff%27%2C%20%27%23ef6346ff%27%2C%20%27%23ee6246ff%27%2C%20%27%23ee6145ff%27%2C%20%27%23ed6145ff%27%2C%20%27%23ed6044ff%27%2C%20%27%23ec5f43ff%27%2C%20%27%23ec5e42ff%27%2C%20%27%23ec5d42ff%27%2C%20%27%23ec5c41ff%27%2C%20%27%23eb5c41ff%27%2C%20%27%23eb5b40ff%27%2C%20%27%23ea5a3fff%27%2C%20%27%23ea593eff%27%2C%20%27%23e9583eff%27%2C%20%27%23e9573dff%27%2C%20%27%23e9573dff%27%2C%20%27%23e9563cff%27%2C%20%27%23e8553bff%27%2C%20%27%23e8543aff%27%2C%20%27%23e7533aff%27%2C%20%27%23e75239ff%27%2C%20%27%23e65139ff%27%2C%20%27%23e65038ff%27%2C%20%27%23e54f37ff%27%2C%20%27%23e54e36ff%27%2C%20%27%23e54e35ff%27%2C%20%27%23e54d35ff%27%2C%20%27%23e44c34ff%27%2C%20%27%23e44b34ff%27%2C%20%27%23e34a33ff%27%2C%20%27%23e34933ff%27%2C%20%27%23e24832ff%27%2C%20%27%23e24831ff%27%2C%20%27%23e24730ff%27%2C%20%27%23e24630ff%27%2C%20%27%23e1452fff%27%2C%20%27%23e1442fff%27%2C%20%27%23e0432eff%27%2C%20%27%23df432dff%27%2C%20%27%23df422cff%27%2C%20%27%23df412cff%27%2C%20%27%23df402bff%27%2C%20%27%23de3f2bff%27%2C%20%27%23de3e2aff%27%2C%20%27%23dd3e2aff%27%2C%20%27%23dd3d29ff%27%2C%20%27%23dc3c28ff%27%2C%20%27%23dc3b27ff%27%2C%20%27%23dc3a27ff%27%2C%20%27%23dc3926ff%27%2C%20%27%23db3926ff%27%2C%20%27%23db3825ff%27%2C%20%27%23da3724ff%27%2C%20%27%23da3623ff%27%2C%20%27%23d93523ff%27%2C%20%27%23d93422ff%27%2C%20%27%23d93422ff%27%2C%20%27%23d93321ff%27%2C%20%27%23d83120ff%27%2C%20%27%23d8301fff%27%2C%20%27%23d7301eff%27%2C%20%27%23d72f1eff%27%2C%20%27%23d62e1dff%27%2C%20%27%23d62d1dff%27%2C%20%27%23d52d1cff%27%2C%20%27%23d52c1cff%27%2C%20%27%23d42b1bff%27%2C%20%27%23d42a1bff%27%2C%20%27%23d3291aff%27%2C%20%27%23d3291aff%27%2C%20%27%23d22819ff%27%2C%20%27%23d22719ff%27%2C%20%27%23d12618ff%27%2C%20%27%23d02618ff%27%2C%20%27%23cf2517ff%27%2C%20%27%23cf2417ff%27%2C%20%27%23ce2316ff%27%2C%20%27%23cd2316ff%27%2C%20%27%23cd2216ff%27%2C%20%27%23cc2116ff%27%2C%20%27%23cc2015ff%27%2C%20%27%23cb2015ff%27%2C%20%27%23cb1f14ff%27%2C%20%27%23ca1e14ff%27%2C%20%27%23ca1d13ff%27%2C%20%27%23c91d13ff%27%2C%20%27%23c81c12ff%27%2C%20%27%23c71b12ff%27%2C%20%27%23c71a11ff%27%2C%20%27%23c61a11ff%27%2C%20%27%23c61910ff%27%2C%20%27%23c51810ff%27%2C%20%27%23c5170fff%27%2C%20%27%23c4170fff%27%2C%20%27%23c4160eff%27%2C%20%27%23c3150eff%27%2C%20%27%23c3140dff%27%2C%20%27%23c2140dff%27%2C%20%27%23c2120cff%27%2C%20%27%23c1120bff%27%2C%20%27%23c1110bff%27%2C%20%27%23c0100aff%27%2C%20%27%23bf0f0aff%27%2C%20%27%23be0e09ff%27%2C%20%27%23be0e09ff%27%2C%20%27%23bd0d08ff%27%2C%20%27%23bd0c08ff%27%2C%20%27%23bc0b07ff%27%2C%20%27%23bc0b07ff%27%2C%20%27%23bb0a06ff%27%2C%20%27%23bb0906ff%27%2C%20%27%23ba0805ff%27%2C%20%27%23ba0805ff%27%2C%20%27%23b90704ff%27%2C%20%27%23b90604ff%27%2C%20%27%23b80503ff%27%2C%20%27%23b70503ff%27%2C%20%27%23b70402ff%27%2C%20%27%23b60302ff%27%2C%20%27%23b50201ff%27%2C%20%27%23b40201ff%27%2C%20%27%23b40100ff%27%2C%20%27%23b30000ff%27%2C%20%27%23b30000ff%27%2C%20%27%23b20000ff%27%2C%20%27%23b20000ff%27%2C%20%27%23b00000ff%27%2C%20%27%23af0000ff%27%2C%20%27%23ae0000ff%27%2C%20%27%23ae0000ff%27%2C%20%27%23ad0000ff%27%2C%20%27%23ac0000ff%27%2C%20%27%23ab0000ff%27%2C%20%27%23aa0000ff%27%2C%20%27%23a90000ff%27%2C%20%27%23a90000ff%27%2C%20%27%23a80000ff%27%2C%20%27%23a70000ff%27%2C%20%27%23a60000ff%27%2C%20%27%23a60000ff%27%2C%20%27%23a50000ff%27%2C%20%27%23a40000ff%27%2C%20%27%23a30000ff%27%2C%20%27%23a20000ff%27%2C%20%27%23a10000ff%27%2C%20%27%23a10000ff%27%2C%20%27%23a00000ff%27%2C%20%27%239f0000ff%27%2C%20%27%239e0000ff%27%2C%20%27%239d0000ff%27%2C%20%27%239c0000ff%27%2C%20%27%239b0000ff%27%2C%20%27%239b0000ff%27%2C%20%27%239a0000ff%27%2C%20%27%23990000ff%27%2C%20%27%23980000ff%27%2C%20%27%23970000ff%27%2C%20%27%23960000ff%27%2C%20%27%23960000ff%27%2C%20%27%23950000ff%27%2C%20%27%23940000ff%27%2C%20%27%23930000ff%27%2C%20%27%23930000ff%27%2C%20%27%23920000ff%27%2C%20%27%23910000ff%27%2C%20%27%23900000ff%27%2C%20%27%238f0000ff%27%2C%20%27%238e0000ff%27%2C%20%27%238d0000ff%27%2C%20%27%238c0000ff%27%2C%20%27%238b0000ff%27%2C%20%27%238a0000ff%27%2C%20%27%238a0000ff%27%2C%20%27%23890000ff%27%2C%20%27%23880000ff%27%2C%20%27%23870000ff%27%2C%20%27%23870000ff%27%2C%20%27%23860000ff%27%2C%20%27%23850000ff%27%2C%20%27%23840000ff%27%2C%20%27%23830000ff%27%2C%20%27%23820000ff%27%2C%20%27%23820000ff%27%2C%20%27%23810000ff%27%2C%20%27%23800000ff%27%2C%20%27%237f0000ff%27%5D%29%3B%0A%20%20%20%20%0A%0A%20%20%20%20color_map_76267ab991554158b77ab435b2f7e726.x%20%3D%20d3.scale.linear%28%29%0A%20%20%20%20%20%20%20%20%20%20%20%20%20%20.domain%28%5B15.9%2C%2034.0%5D%29%0A%20%20%20%20%20%20%20%20%20%20%20%20%20%20.range%28%5B0%2C%20400%5D%29%3B%0A%0A%20%20%20%20color_map_76267ab991554158b77ab435b2f7e726.legend%20%3D%20L.control%28%7Bposition%3A%20%27topright%27%7D%29%3B%0A%20%20%20%20color_map_76267ab991554158b77ab435b2f7e726.legend.onAdd%20%3D%20function%20%28map%29%20%7Bvar%20div%20%3D%20L.DomUtil.create%28%27div%27%2C%20%27legend%27%29%3B%20return%20div%7D%3B%0A%20%20%20%20color_map_76267ab991554158b77ab435b2f7e726.legend.addTo%28map_a6d9577232164bd6b94487cd9ae06d11%29%3B%0A%0A%20%20%20%20color_map_76267ab991554158b77ab435b2f7e726.xAxis%20%3D%20d3.svg.axis%28%29%0A%20%20%20%20%20%20%20%20.scale%28color_map_76267ab991554158b77ab435b2f7e726.x%29%0A%20%20%20%20%20%20%20%20.orient%28%22top%22%29%0A%20%20%20%20%20%20%20%20.tickSize%281%29%0A%20%20%20%20%20%20%20%20.tickValues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color_map_76267ab991554158b77ab435b2f7e726.svg%20%3D%20d3.select%28%22.legend.leaflet-control%22%29.append%28%22svg%22%29%0A%20%20%20%20%20%20%20%20.attr%28%22id%22%2C%20%27legend%27%29%0A%20%20%20%20%20%20%20%20.attr%28%22width%22%2C%20450%29%0A%20%20%20%20%20%20%20%20.attr%28%22height%22%2C%2040%29%3B%0A%0A%20%20%20%20color_map_76267ab991554158b77ab435b2f7e726.g%20%3D%20color_map_76267ab991554158b77ab435b2f7e726.svg.append%28%22g%22%29%0A%20%20%20%20%20%20%20%20.attr%28%22class%22%2C%20%22key%22%29%0A%20%20%20%20%20%20%20%20.attr%28%22transform%22%2C%20%22translate%2825%2C16%29%22%29%3B%0A%0A%20%20%20%20color_map_76267ab991554158b77ab435b2f7e726.g.selectAll%28%22rect%22%29%0A%20%20%20%20%20%20%20%20.data%28color_map_76267ab991554158b77ab435b2f7e726.color.range%28%29.map%28function%28d%2C%20i%29%20%7B%0A%20%20%20%20%20%20%20%20%20%20return%20%7B%0A%20%20%20%20%20%20%20%20%20%20%20%20x0%3A%20i%20%3F%20color_map_76267ab991554158b77ab435b2f7e726.x%28color_map_76267ab991554158b77ab435b2f7e726.color.domain%28%29%5Bi%20-%201%5D%29%20%3A%20color_map_76267ab991554158b77ab435b2f7e726.x.range%28%29%5B0%5D%2C%0A%20%20%20%20%20%20%20%20%20%20%20%20x1%3A%20i%20%3C%20color_map_76267ab991554158b77ab435b2f7e726.color.domain%28%29.length%20%3F%20color_map_76267ab991554158b77ab435b2f7e726.x%28color_map_76267ab991554158b77ab435b2f7e726.color.domain%28%29%5Bi%5D%29%20%3A%20color_map_76267ab991554158b77ab435b2f7e726.x.range%28%29%5B1%5D%2C%0A%20%20%20%20%20%20%20%20%20%20%20%20z%3A%20d%0A%20%20%20%20%20%20%20%20%20%20%7D%3B%0A%20%20%20%20%20%20%20%20%7D%29%29%0A%20%20%20%20%20%20.enter%28%29.append%28%22rect%22%29%0A%20%20%20%20%20%20%20%20.attr%28%22height%22%2C%2010%29%0A%20%20%20%20%20%20%20%20.attr%28%22x%22%2C%20function%28d%29%20%7B%20return%20d.x0%3B%20%7D%29%0A%20%20%20%20%20%20%20%20.attr%28%22width%22%2C%20function%28d%29%20%7B%20return%20d.x1%20-%20d.x0%3B%20%7D%29%0A%20%20%20%20%20%20%20%20.style%28%22fill%22%2C%20function%28d%29%20%7B%20return%20d.z%3B%20%7D%29%3B%0A%0A%20%20%20%20color_map_76267ab991554158b77ab435b2f7e726.g.call%28color_map_76267ab991554158b77ab435b2f7e726.xAxis%29.append%28%22text%22%29%0A%20%20%20%20%20%20%20%20.attr%28%22class%22%2C%20%22caption%22%29%0A%20%20%20%20%20%20%20%20.attr%28%22y%22%2C%2021%29%0A%20%20%20%20%20%20%20%20.text%28%27Result%27%29%3B%0A%3C/script%3E onload=\"this.contentDocument.open();this.contentDocument.write(    decodeURIComponent(this.getAttribute('data-html')));this.contentDocument.close();\" allowfullscreen webkitallowfullscreen mozallowfullscreen></iframe></div></div>"
      ],
      "text/plain": [
       "<folium.folium.Map at 0x174ab4ac0>"
      ]
     },
     "execution_count": 344,
     "metadata": {},
     "output_type": "execute_result"
    }
   ],
   "source": [
    "gdf[gdf.within(lewisham.geometry.unary_union)].explore(column=\"Result\", legend=True, cmap='OrRd', marker_kwds={'radius': 5}, tiles='Stamen Terrain')"
   ]
  },
  {
   "cell_type": "code",
   "execution_count": 323,
   "metadata": {},
   "outputs": [],
   "source": [
    "# create GeoJSON\n",
    "gdf.to_file('../data/processed/ltn-plus-regular-sensors-geocoded.geojson', driver='GeoJSON')"
   ]
  }
 ],
 "metadata": {
  "interpreter": {
   "hash": "13fb2cf9046f7cd99b41d9f56bfe3cf0eaea4d6bfcacd3c94275f4cf9b33c9ec"
  },
  "kernelspec": {
   "display_name": "Python 3 (ipykernel)",
   "language": "python",
   "name": "python3"
  },
  "language_info": {
   "codemirror_mode": {
    "name": "ipython",
    "version": 3
   },
   "file_extension": ".py",
   "mimetype": "text/x-python",
   "name": "python",
   "nbconvert_exporter": "python",
   "pygments_lexer": "ipython3",
   "version": "3.9.7"
  }
 },
 "nbformat": 4,
 "nbformat_minor": 2
}
